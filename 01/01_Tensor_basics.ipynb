{
 "cells": [
  {
   "cell_type": "markdown",
   "metadata": {
    "colab_type": "text",
    "id": "AhTm-wTJNJEJ"
   },
   "source": [
    "# Deep Learning & Applied AI\n",
    "\n",
    "# Tutorial 1: Tensors \n",
    "\n",
    "In this tutorial, we will cover:\n",
    "\n",
    "- PyTorch Tensors: creation, gpu tensors, shape manipulation, indexing\n",
    "\n",
    "Prerequisites:\n",
    "\n",
    "- Python\n",
    "\n",
    "Our info:\n",
    "\n",
    "- Luca Moschella (moschella@di.uniroma.it)\n",
    "- Antonio Norelli (norelli@di.uniroma1.it)\n",
    "\n",
    "Course:\n",
    "\n",
    "- Website and notebooks will be available at https://erodola.github.io/DLAI-s2-2020/\n",
    "\n"
   ]
  },
  {
   "cell_type": "markdown",
   "metadata": {
    "colab_type": "text",
    "id": "MDJI_JVTPMRc"
   },
   "source": [
    "## Introduction\n",
    "\n",
    "Many Deep Learning frameworks have emerged for python. Arguably the most notable ones in 2019 are **TensorFlow** (with keras frontend) and **PyTorch**.\n",
    "We will use PyTorch, which is currently [the leading DL framework](https://thegradient.pub/state-of-ml-frameworks-2019-pytorch-dominates-research-tensorflow-dominates-industry/) for research."
   ]
  },
  {
   "cell_type": "markdown",
   "metadata": {
    "colab_type": "text",
    "id": "_ptdrqwQQAi0"
   },
   "source": [
    "## Numpy\n",
    "\n",
    "Numpy is a library for high-performance scientific computing in Python. It provides a multidimensional array object and tools for working with these arrays.\n",
    "\n",
    "We'll refer to such **n-dimensional arrays as tensors**.\n",
    "\n",
    "It is important to know how to use Numpy even if we will mainly use PyTorch  tensors for implementing our Deep Learning systems, since:\n",
    "\n",
    "- Numpy tensors and PyTorch tensors are very similar, most of the features that we will explain for PyTorch tensors apply to Numpy tensors.\n",
    "- In real DL systems you need to constantly switch between the two.\n",
    "\n",
    "If you have previous knowledge in Matlab, we recommend the [numpy for Matlab users page](https://docs.scipy.org/doc/numpy-1.15.0/user/numpy-for-matlab-users.html) as a useful resource.\n",
    "\n"
   ]
  },
  {
   "cell_type": "code",
   "execution_count": 2,
   "metadata": {
    "colab": {},
    "colab_type": "code",
    "id": "eRzmry5qj8DD"
   },
   "outputs": [],
   "source": [
    "import numpy as np"
   ]
  },
  {
   "cell_type": "markdown",
   "metadata": {
    "colab_type": "text",
    "id": "xsfPgLP9S0gA"
   },
   "source": [
    "## PyTorch\n",
    "\n",
    "During the course we'll use and learn many parts of its API.\n",
    "You should also familiarize with the [PyTorch Documentation](https://pytorch.org/docs/stable/) as it will greatly assist you.\n",
    "\n",
    "\n"
   ]
  },
  {
   "cell_type": "code",
   "execution_count": 5,
   "metadata": {
    "colab": {
     "base_uri": "https://localhost:8080/",
     "height": 34
    },
    "colab_type": "code",
    "id": "SWHsmm2OTqZK",
    "outputId": "4f7b11ea-4d29-4dc5-d7a7-8a7074714111"
   },
   "outputs": [
    {
     "data": {
      "text/plain": [
       "'1.4.0'"
      ]
     },
     "execution_count": 5,
     "metadata": {},
     "output_type": "execute_result"
    }
   ],
   "source": [
    "import torch\n",
    "torch.__version__"
   ]
  },
  {
   "cell_type": "markdown",
   "metadata": {
    "colab_type": "text",
    "id": "7odUeGK8TmVh"
   },
   "source": [
    "### **PyTorch Tensor**\n",
    "\n",
    "The ``Tensor`` class is very similar to numpy's ``ndarray`` and provides most of its functionality.\n",
    "\n",
    "\n",
    "However, it also has two important distinctions:\n",
    "\n",
    "- Support for GPU computations.\n",
    "- Each tensor may store extra information needed *to* perform back propagation:\n",
    "  - The gradient tensor w.r.t. some variable (e.g. the loss)\n",
    "  - A node representing an operation in the computational graph that produced this tensor.\n",
    "\n",
    "\n",
    "Keep in mind:\n",
    "\n",
    "- Usually **tensor operations are not in-place**"
   ]
  },
  {
   "cell_type": "markdown",
   "metadata": {
    "colab_type": "text",
    "id": "dkkmkYGDXFFU"
   },
   "source": [
    "#### **Tensor construction**\n",
    "\n",
    "A tensor represents an n-dimensional grid of values, **all of the same type**. "
   ]
  },
  {
   "cell_type": "code",
   "execution_count": 3,
   "metadata": {
    "colab": {
     "base_uri": "https://localhost:8080/",
     "height": 51
    },
    "colab_type": "code",
    "id": "F-i2-H7QU7DH",
    "outputId": "e42851cd-a17d-47ac-d9ff-bcf6b98e83d3"
   },
   "outputs": [
    {
     "data": {
      "text/plain": [
       "tensor([[1, 2, 3],\n",
       "        [4, 5, 6]], dtype=torch.int32)"
      ]
     },
     "execution_count": 3,
     "metadata": {
      "tags": []
     },
     "output_type": "execute_result"
    }
   ],
   "source": [
    "# Basic tensor creation from python lists\n",
    "torch.tensor([[1, 2, 3], [4, 5, 6]], dtype=torch.int32)"
   ]
  },
  {
   "cell_type": "code",
   "execution_count": 4,
   "metadata": {
    "colab": {
     "base_uri": "https://localhost:8080/",
     "height": 68
    },
    "colab_type": "code",
    "id": "5LNGnqk3VbkU",
    "outputId": "490b9547-4d9e-40cd-b40a-5da7b3acdeb6"
   },
   "outputs": [
    {
     "data": {
      "text/plain": [
       "tensor([[0., 0., 0., 0., 0.],\n",
       "        [0., 0., 0., 0., 0.],\n",
       "        [0., 0., 0., 0., 0.]])"
      ]
     },
     "execution_count": 4,
     "metadata": {
      "tags": []
     },
     "output_type": "execute_result"
    }
   ],
   "source": [
    "# Some other tensor construction methods\n",
    "torch.zeros((3,5))"
   ]
  },
  {
   "cell_type": "code",
   "execution_count": 5,
   "metadata": {
    "colab": {
     "base_uri": "https://localhost:8080/",
     "height": 51
    },
    "colab_type": "code",
    "id": "8et3bE93WLBR",
    "outputId": "216e0c71-c8d0-46f2-e303-45ec53834ed9"
   },
   "outputs": [
    {
     "data": {
      "text/plain": [
       "tensor([[1., 1., 1., 1., 1.],\n",
       "        [1., 1., 1., 1., 1.]], dtype=torch.float64)"
      ]
     },
     "execution_count": 5,
     "metadata": {
      "tags": []
     },
     "output_type": "execute_result"
    }
   ],
   "source": [
    "torch.ones((2,5), dtype=torch.float64)"
   ]
  },
  {
   "cell_type": "code",
   "execution_count": 6,
   "metadata": {
    "colab": {
     "base_uri": "https://localhost:8080/",
     "height": 85
    },
    "colab_type": "code",
    "id": "v2Ehsm4WcML0",
    "outputId": "9ae3f026-3b09-4dd1-f992-ee5c76b65d34"
   },
   "outputs": [
    {
     "data": {
      "text/plain": [
       "tensor([[1., 0., 0., 0.],\n",
       "        [0., 1., 0., 0.],\n",
       "        [0., 0., 1., 0.],\n",
       "        [0., 0., 0., 1.]])"
      ]
     },
     "execution_count": 6,
     "metadata": {
      "tags": []
     },
     "output_type": "execute_result"
    }
   ],
   "source": [
    "torch.eye(4)"
   ]
  },
  {
   "cell_type": "code",
   "execution_count": 7,
   "metadata": {
    "colab": {
     "base_uri": "https://localhost:8080/",
     "height": 51
    },
    "colab_type": "code",
    "id": "jokiBKanWFIE",
    "outputId": "1ebafa92-7588-49da-a942-1d64b1c24031"
   },
   "outputs": [
    {
     "data": {
      "text/plain": [
       "tensor([[0.1247, 0.1998],\n",
       "        [0.4345, 0.4637]])"
      ]
     },
     "execution_count": 7,
     "metadata": {
      "tags": []
     },
     "output_type": "execute_result"
    }
   ],
   "source": [
    "torch.rand((2,2))"
   ]
  },
  {
   "cell_type": "code",
   "execution_count": 8,
   "metadata": {
    "colab": {
     "base_uri": "https://localhost:8080/",
     "height": 68
    },
    "colab_type": "code",
    "id": "DHV8h3LVWRaI",
    "outputId": "dab6a4ae-667b-4aa4-c6f9-6055b197ac30"
   },
   "outputs": [
    {
     "data": {
      "text/plain": [
       "tensor([[13, 32, 42],\n",
       "        [19, 95, 10],\n",
       "        [69, 93, 94]])"
      ]
     },
     "execution_count": 8,
     "metadata": {
      "tags": []
     },
     "output_type": "execute_result"
    }
   ],
   "source": [
    "torch.randint(0, 100, (3,3))"
   ]
  },
  {
   "cell_type": "code",
   "execution_count": 9,
   "metadata": {
    "colab": {
     "base_uri": "https://localhost:8080/",
     "height": 68
    },
    "colab_type": "code",
    "id": "zsf9dn4CWl2V",
    "outputId": "9bedd141-e3ef-4df7-e155-144551ade22c"
   },
   "outputs": [
    {
     "data": {
      "text/plain": [
       "tensor([[1., 1., 1.],\n",
       "        [1., 1., 1.],\n",
       "        [1., 1., 1.]])"
      ]
     },
     "execution_count": 9,
     "metadata": {
      "tags": []
     },
     "output_type": "execute_result"
    }
   ],
   "source": [
    "t = torch.rand((3, 3))\n",
    "torch.ones_like(t)"
   ]
  },
  {
   "cell_type": "markdown",
   "metadata": {
    "colab_type": "text",
    "id": "KiRfQEztdwqE"
   },
   "source": [
    "It is possible to easily convert to/from Numpy tensors:"
   ]
  },
  {
   "cell_type": "code",
   "execution_count": 10,
   "metadata": {
    "colab": {
     "base_uri": "https://localhost:8080/",
     "height": 68
    },
    "colab_type": "code",
    "id": "aI5VsGZJd2rV",
    "outputId": "650e443d-b36d-4cd6-d8b3-9548f04427b4"
   },
   "outputs": [
    {
     "data": {
      "text/plain": [
       "array([[0.00156087, 0.4444105 , 0.9492062 ],\n",
       "       [0.6479398 , 0.26873899, 0.20878828],\n",
       "       [0.5404571 , 0.46567917, 0.91139543]], dtype=float32)"
      ]
     },
     "execution_count": 10,
     "metadata": {
      "tags": []
     },
     "output_type": "execute_result"
    }
   ],
   "source": [
    "t = torch.rand((3, 3), dtype=torch.float32)\n",
    "t.numpy()"
   ]
  },
  {
   "cell_type": "code",
   "execution_count": 11,
   "metadata": {
    "colab": {
     "base_uri": "https://localhost:8080/",
     "height": 68
    },
    "colab_type": "code",
    "id": "Wt4Uy9Bbd81h",
    "outputId": "cad109d8-c40f-4cc9-93dd-d606b85a4d23"
   },
   "outputs": [
    {
     "data": {
      "text/plain": [
       "tensor([[0.5205, 0.6519, 0.7744],\n",
       "        [0.0482, 0.6895, 0.3210],\n",
       "        [0.2520, 0.9697, 0.4143]], dtype=torch.float16)"
      ]
     },
     "execution_count": 11,
     "metadata": {
      "tags": []
     },
     "output_type": "execute_result"
    }
   ],
   "source": [
    "n = np.random.rand(3,3).astype(np.float16)\n",
    "torch.from_numpy(n)"
   ]
  },
  {
   "cell_type": "markdown",
   "metadata": {
    "colab_type": "text",
    "id": "6FYkcuhs84Sp"
   },
   "source": [
    "There are many other functions available to create tensors!"
   ]
  },
  {
   "cell_type": "markdown",
   "metadata": {
    "colab_type": "text",
    "id": "RPEmhFYd5TK-"
   },
   "source": [
    "> **EXERCISE**\n",
    ">\n",
    "> Create a matrix $M \\in R^{3 \\times 3}$ that is filled with 2 along the diagonal and 1 elsewhere, that is:\n",
    ">\n",
    "> $$\n",
    "m_{ij} =\n",
    "\\begin{cases}\n",
    "2 & \\text{if } i = j \\\\\n",
    "1 & \\text{otherwise}\n",
    "\\end{cases}\n",
    "$$ "
   ]
  },
  {
   "cell_type": "code",
   "execution_count": 12,
   "metadata": {
    "colab": {
     "base_uri": "https://localhost:8080/",
     "height": 68
    },
    "colab_type": "code",
    "id": "byUasUkZfO_r",
    "outputId": "9e57c577-25db-4abe-866f-e87b04e5dffc"
   },
   "outputs": [
    {
     "data": {
      "text/plain": [
       "tensor([[2., 1., 1.],\n",
       "        [1., 2., 1.],\n",
       "        [1., 1., 2.]])"
      ]
     },
     "execution_count": 12,
     "metadata": {
      "tags": []
     },
     "output_type": "execute_result"
    }
   ],
   "source": [
    "torch.ones((3, 3)) + torch.eye(3)"
   ]
  },
  {
   "cell_type": "markdown",
   "metadata": {
    "colab_type": "text",
    "id": "_c7X85hbWs0c"
   },
   "source": [
    "#### **Tensor properties**"
   ]
  },
  {
   "cell_type": "markdown",
   "metadata": {
    "colab_type": "text",
    "id": "1XCHWcMlbhH0"
   },
   "source": [
    "The **type** of a tensor is the type of each element contained in the tensor:"
   ]
  },
  {
   "cell_type": "code",
   "execution_count": 13,
   "metadata": {
    "colab": {
     "base_uri": "https://localhost:8080/",
     "height": 34
    },
    "colab_type": "code",
    "id": "XP4CyRTmXYpd",
    "outputId": "392969a7-bc17-4f35-b460-22e73e0e5cc8"
   },
   "outputs": [
    {
     "data": {
      "text/plain": [
       "torch.float32"
      ]
     },
     "execution_count": 13,
     "metadata": {
      "tags": []
     },
     "output_type": "execute_result"
    }
   ],
   "source": [
    "t = torch.rand((3, 3))\n",
    "t.dtype"
   ]
  },
  {
   "cell_type": "markdown",
   "metadata": {
    "colab_type": "text",
    "id": "TBoZHIlybZUV"
   },
   "source": [
    "\n",
    "The **shape** of a tensor is a tuple of integers giving the size of the tensor along each dimension, e.g. for a matrix $M \\in R^{3 \\times 5}$:"
   ]
  },
  {
   "cell_type": "code",
   "execution_count": 14,
   "metadata": {
    "colab": {
     "base_uri": "https://localhost:8080/",
     "height": 34
    },
    "colab_type": "code",
    "id": "PjuSpqbvXbqs",
    "outputId": "df263de8-d9b9-471d-9ef0-d141635dde20"
   },
   "outputs": [
    {
     "data": {
      "text/plain": [
       "torch.Size([3, 5])"
      ]
     },
     "execution_count": 14,
     "metadata": {
      "tags": []
     },
     "output_type": "execute_result"
    }
   ],
   "source": [
    "t = torch.rand((3,5))\n",
    "t.shape"
   ]
  },
  {
   "cell_type": "markdown",
   "metadata": {
    "colab_type": "text",
    "id": "UFhAblNmbswv"
   },
   "source": [
    "The **device** of a tensor indicates the memory in which the tensor currently resides: RAM (indicated as ``cpu``) or GPU memory (indicated ``cuda``)"
   ]
  },
  {
   "cell_type": "code",
   "execution_count": 15,
   "metadata": {
    "colab": {
     "base_uri": "https://localhost:8080/",
     "height": 34
    },
    "colab_type": "code",
    "id": "_4okES1zXcy2",
    "outputId": "c70152e6-1b4c-43f6-e355-91917d0f1d12"
   },
   "outputs": [
    {
     "data": {
      "text/plain": [
       "device(type='cpu')"
      ]
     },
     "execution_count": 15,
     "metadata": {
      "tags": []
     },
     "output_type": "execute_result"
    }
   ],
   "source": [
    "t = torch.rand((3,5))\n",
    "t.device"
   ]
  },
  {
   "cell_type": "markdown",
   "metadata": {
    "colab_type": "text",
    "id": "UM0UCkZ49DPk"
   },
   "source": [
    "> **EXERCISE**\n",
    ">\n",
    "> Given a matrix $X \\in R^{m \\times n}$, create another matrix $Y \\in R^{m \\times 3}$ filled with ones."
   ]
  },
  {
   "cell_type": "code",
   "execution_count": 16,
   "metadata": {
    "colab": {
     "base_uri": "https://localhost:8080/",
     "height": 34
    },
    "colab_type": "code",
    "id": "_GJinHgLzs11",
    "outputId": "1893a57d-edd1-4387-a4f6-40fb8e8ff634"
   },
   "outputs": [
    {
     "data": {
      "text/plain": [
       "torch.Size([100, 42])"
      ]
     },
     "execution_count": 16,
     "metadata": {
      "tags": []
     },
     "output_type": "execute_result"
    }
   ],
   "source": [
    "x = torch.rand(100,42)\n",
    "\n",
    "torch.ones_like(x).shape"
   ]
  },
  {
   "cell_type": "markdown",
   "metadata": {
    "colab_type": "text",
    "id": "_8Wa3JFCXd7J"
   },
   "source": [
    "#### **Using the GPU**\n",
    "\n",
    "It is possible to move tensors to **GPU** memory, if a GPU is available on the machine.\n",
    "\n",
    "Operations between tensors in the GPU memory will use the GPU computation capability."
   ]
  },
  {
   "cell_type": "code",
   "execution_count": 17,
   "metadata": {
    "colab": {
     "base_uri": "https://localhost:8080/",
     "height": 321
    },
    "colab_type": "code",
    "id": "bgZST3s_CaLm",
    "outputId": "716f99a2-7202-439f-ec00-59f984a3a16f"
   },
   "outputs": [
    {
     "data": {
      "text/html": [
       "\n",
       "        <iframe\n",
       "            width=\"400\"\n",
       "            height=\"300\"\n",
       "            src=\"https://www.youtube.com/embed/-P28LKWTzrI?t=14\"\n",
       "            frameborder=\"0\"\n",
       "            allowfullscreen\n",
       "        ></iframe>\n",
       "        "
      ],
      "text/plain": [
       "<IPython.lib.display.YouTubeVideo at 0x7ffb1a9b5ac8>"
      ]
     },
     "metadata": {
      "tags": []
     },
     "output_type": "display_data"
    }
   ],
   "source": [
    "from IPython.display import YouTubeVideo, HTML, display\n",
    "\n",
    "display(YouTubeVideo('-P28LKWTzrI?t=14'))"
   ]
  },
  {
   "cell_type": "code",
   "execution_count": 18,
   "metadata": {
    "colab": {
     "base_uri": "https://localhost:8080/",
     "height": 34
    },
    "colab_type": "code",
    "id": "gbIogawQYBvW",
    "outputId": "10d6743f-02de-4960-d3c4-b905bbcf9fc5"
   },
   "outputs": [
    {
     "data": {
      "text/plain": [
       "True"
      ]
     },
     "execution_count": 18,
     "metadata": {
      "tags": []
     },
     "output_type": "execute_result"
    }
   ],
   "source": [
    "# Check if the GPU is available\n",
    "torch.cuda.is_available()"
   ]
  },
  {
   "cell_type": "code",
   "execution_count": 19,
   "metadata": {
    "colab": {
     "base_uri": "https://localhost:8080/",
     "height": 34
    },
    "colab_type": "code",
    "id": "TVYbgoigX_PL",
    "outputId": "2e84e2cb-445c-4fda-e6d6-87d67ae53c5b"
   },
   "outputs": [
    {
     "data": {
      "text/plain": [
       "device(type='cuda')"
      ]
     },
     "execution_count": 19,
     "metadata": {
      "tags": []
     },
     "output_type": "execute_result"
    }
   ],
   "source": [
    "# If available use the GPU\n",
    "device = torch.device('cuda' if torch.cuda.is_available() else 'cpu')\n",
    "device"
   ]
  },
  {
   "cell_type": "code",
   "execution_count": 20,
   "metadata": {
    "colab": {
     "base_uri": "https://localhost:8080/",
     "height": 68
    },
    "colab_type": "code",
    "id": "yhHVeolzWZQn",
    "outputId": "d9d9d0c2-9f14-4acc-fb7c-72502aa09a29"
   },
   "outputs": [
    {
     "data": {
      "text/plain": [
       "tensor([[0.2671, 0.8841, 0.9379],\n",
       "        [0.5459, 0.9374, 0.9977],\n",
       "        [0.1277, 0.3712, 0.0026]], device='cuda:0')"
      ]
     },
     "execution_count": 20,
     "metadata": {
      "tags": []
     },
     "output_type": "execute_result"
    }
   ],
   "source": [
    "t = torch.rand((3,3))\n",
    "t = t.to(device)  # Pay attention to re-assign the variable!\n",
    "t"
   ]
  },
  {
   "cell_type": "code",
   "execution_count": 21,
   "metadata": {
    "colab": {
     "base_uri": "https://localhost:8080/",
     "height": 102
    },
    "colab_type": "code",
    "id": "Al_WAx4RWDy2",
    "outputId": "5ad7a86a-597f-4482-9af6-95b4d96efc30"
   },
   "outputs": [
    {
     "data": {
      "text/plain": [
       "tensor([[1., 1., 1., 1., 1.],\n",
       "        [1., 1., 1., 1., 1.],\n",
       "        [1., 1., 1., 1., 1.],\n",
       "        [1., 1., 1., 1., 1.],\n",
       "        [1., 1., 1., 1., 1.]], device='cuda:0')"
      ]
     },
     "execution_count": 21,
     "metadata": {
      "tags": []
     },
     "output_type": "execute_result"
    }
   ],
   "source": [
    "# Construct tensors directly on the GPU memory\n",
    "t = torch.ones((5, 5), device='cuda')\n",
    "t"
   ]
  },
  {
   "cell_type": "code",
   "execution_count": 0,
   "metadata": {
    "colab": {},
    "colab_type": "code",
    "id": "sNVVE4KCWB3C"
   },
   "outputs": [],
   "source": [
    "# Other methods to transfer tensors between devices\n",
    "t = torch.rand((3,3))"
   ]
  },
  {
   "cell_type": "code",
   "execution_count": 23,
   "metadata": {
    "colab": {
     "base_uri": "https://localhost:8080/",
     "height": 68
    },
    "colab_type": "code",
    "id": "nuynABfrVZmD",
    "outputId": "979ae858-d672-4291-ee4b-786665f04759"
   },
   "outputs": [
    {
     "data": {
      "text/plain": [
       "tensor([[0.0560, 0.5709, 0.5793],\n",
       "        [0.8856, 0.0531, 0.1918],\n",
       "        [0.6665, 0.5382, 0.1194]], device='cuda:0')"
      ]
     },
     "execution_count": 23,
     "metadata": {
      "tags": []
     },
     "output_type": "execute_result"
    }
   ],
   "source": [
    "t = t.cuda()\n",
    "t"
   ]
  },
  {
   "cell_type": "code",
   "execution_count": 24,
   "metadata": {
    "colab": {
     "base_uri": "https://localhost:8080/",
     "height": 68
    },
    "colab_type": "code",
    "id": "JkOX8icwVXPK",
    "outputId": "732223be-5569-4112-d299-f8d94c281521"
   },
   "outputs": [
    {
     "data": {
      "text/plain": [
       "tensor([[0.0560, 0.5709, 0.5793],\n",
       "        [0.8856, 0.0531, 0.1918],\n",
       "        [0.6665, 0.5382, 0.1194]])"
      ]
     },
     "execution_count": 24,
     "metadata": {
      "tags": []
     },
     "output_type": "execute_result"
    }
   ],
   "source": [
    "t = t.cpu()\n",
    "t"
   ]
  },
  {
   "cell_type": "markdown",
   "metadata": {
    "colab_type": "text",
    "id": "1g8l8j4deyZ2"
   },
   "source": [
    "#### **Tensor rank**\n",
    "\n",
    "In **Numpy** and **PyTorch** the **rank** means **number of dimensions** (different meaning in Linear Algebra!)"
   ]
  },
  {
   "cell_type": "code",
   "execution_count": 0,
   "metadata": {
    "cellView": "both",
    "colab": {},
    "colab_type": "code",
    "id": "mj0gWQ-FgsZ2"
   },
   "outputs": [],
   "source": [
    "from typing import Union\n",
    "\n",
    "# Utility print function\n",
    "def print_arr(*arr: Union[torch.Tensor, np.ndarray], prefix: str = \"\") -> None:\n",
    "    \"\"\" Pretty print tensors, together with their shape and type\n",
    "    \n",
    "    :param arr: one or more tensors\n",
    "    :param prefix: prefix to use when printing the tensors\n",
    "    \"\"\"\n",
    "    print(\n",
    "        \"\\n\\n\".join(\n",
    "            f\"{prefix}{str(x)} <shape: {x.shape}> <dtype: {x.dtype}>\" for x in arr\n",
    "        )\n",
    "    )"
   ]
  },
  {
   "cell_type": "markdown",
   "metadata": {
    "colab_type": "text",
    "id": "pF8r6t6VTbrf"
   },
   "source": [
    "- **rank-0** tensors are just scalars"
   ]
  },
  {
   "cell_type": "code",
   "execution_count": 26,
   "metadata": {
    "colab": {
     "base_uri": "https://localhost:8080/",
     "height": 34
    },
    "colab_type": "code",
    "id": "lfSjfJ7bTHlZ",
    "outputId": "aa4b8af1-1841-4729-d5ac-9fdb861e44a9"
   },
   "outputs": [
    {
     "name": "stdout",
     "output_type": "stream",
     "text": [
      "tensor(3., dtype=torch.float64) <shape: torch.Size([])> <dtype: torch.float64>\n"
     ]
    }
   ],
   "source": [
    "t0 = torch.tensor(3, dtype=torch.double)\n",
    "\n",
    "print_arr(t0) "
   ]
  },
  {
   "cell_type": "code",
   "execution_count": 27,
   "metadata": {
    "colab": {
     "base_uri": "https://localhost:8080/",
     "height": 34
    },
    "colab_type": "code",
    "id": "4O2GLaL0SxHn",
    "outputId": "f166a1ad-72c8-483d-bd20-da501e2f4665"
   },
   "outputs": [
    {
     "data": {
      "text/plain": [
       "(3.0, float)"
      ]
     },
     "execution_count": 27,
     "metadata": {
      "tags": []
     },
     "output_type": "execute_result"
    }
   ],
   "source": [
    "item = t0.item()  # convert tensor scalar to a python base type\n",
    "item, type(item)"
   ]
  },
  {
   "cell_type": "markdown",
   "metadata": {
    "colab_type": "text",
    "id": "El2afq3-Sujl"
   },
   "source": [
    "- **rank-1** tensors of length ``n``have a shape of ``(n,)``"
   ]
  },
  {
   "cell_type": "code",
   "execution_count": 28,
   "metadata": {
    "colab": {
     "base_uri": "https://localhost:8080/",
     "height": 34
    },
    "colab_type": "code",
    "id": "Twmbub4VSrvt",
    "outputId": "2a5ef69e-e7df-41f4-bdb0-2c9d63e4b7ec"
   },
   "outputs": [
    {
     "name": "stdout",
     "output_type": "stream",
     "text": [
      "tensor([1, 2, 3]) <shape: torch.Size([3])> <dtype: torch.int64>\n"
     ]
    }
   ],
   "source": [
    "# A rank-1 array\n",
    "t1 = torch.tensor([1, 2, 3])\n",
    "\n",
    "print_arr(t1)"
   ]
  },
  {
   "cell_type": "code",
   "execution_count": 29,
   "metadata": {
    "colab": {
     "base_uri": "https://localhost:8080/",
     "height": 34
    },
    "colab_type": "code",
    "id": "3LA-5C4kSHXv",
    "outputId": "8475a66f-7bb3-4a26-d164-13ef941f3f32"
   },
   "outputs": [
    {
     "name": "stdout",
     "output_type": "stream",
     "text": [
      "tensor([42]) <shape: torch.Size([1])> <dtype: torch.int64>\n"
     ]
    }
   ],
   "source": [
    "# A rank-1 array with a single scalar\n",
    "print_arr(torch.tensor([42]))"
   ]
  },
  {
   "cell_type": "markdown",
   "metadata": {
    "colab_type": "text",
    "id": "Lj0NVuY3Rzp0"
   },
   "source": [
    "- **rank-2** tensors have a shape of ``(n, m)``"
   ]
  },
  {
   "cell_type": "code",
   "execution_count": 30,
   "metadata": {
    "colab": {
     "base_uri": "https://localhost:8080/",
     "height": 51
    },
    "colab_type": "code",
    "id": "wui6OfMFPdnM",
    "outputId": "de74bf5d-60f6-4981-f9a6-b8eb985d58f5"
   },
   "outputs": [
    {
     "name": "stdout",
     "output_type": "stream",
     "text": [
      "tensor([[1, 2, 3],\n",
      "        [4, 5, 6]]) <shape: torch.Size([2, 3])> <dtype: torch.int64>\n"
     ]
    }
   ],
   "source": [
    "t2 = torch.tensor([[1, 2, 3], [4, 5, 6]])\n",
    "\n",
    "print_arr(t2)"
   ]
  },
  {
   "cell_type": "code",
   "execution_count": 31,
   "metadata": {
    "colab": {
     "base_uri": "https://localhost:8080/",
     "height": 68
    },
    "colab_type": "code",
    "id": "_hBNed-yOmmQ",
    "outputId": "b1cd2c69-782b-4551-fc2f-8fd70f05da8e"
   },
   "outputs": [
    {
     "name": "stdout",
     "output_type": "stream",
     "text": [
      "tensor([[1],\n",
      "        [2],\n",
      "        [3]]) <shape: torch.Size([3, 1])> <dtype: torch.int64>\n"
     ]
    }
   ],
   "source": [
    "# A column vector is a rank-2 tensor\n",
    "t_col = t1.reshape(-1, 1)\n",
    "\n",
    "print_arr(t_col)"
   ]
  },
  {
   "cell_type": "code",
   "execution_count": 32,
   "metadata": {
    "colab": {
     "base_uri": "https://localhost:8080/",
     "height": 34
    },
    "colab_type": "code",
    "id": "Qad_RigUjEtA",
    "outputId": "c29d17ba-c053-478f-b3f3-086cb15a51d9"
   },
   "outputs": [
    {
     "name": "stdout",
     "output_type": "stream",
     "text": [
      "tensor([[1, 2, 3]]) <shape: torch.Size([1, 3])> <dtype: torch.int64>\n"
     ]
    }
   ],
   "source": [
    "# A row vector is a rank-2 tensor\n",
    "t_row = t1.reshape(1, -1)\n",
    "\n",
    "print_arr(t_row)"
   ]
  },
  {
   "cell_type": "markdown",
   "metadata": {
    "colab_type": "text",
    "id": "KJ3IFNmU0_a2"
   },
   "source": [
    "> **NOTE**\n",
    ">\n",
    "> The rank-1 tensors are consider to be both row and column tensors\n"
   ]
  },
  {
   "cell_type": "markdown",
   "metadata": {
    "colab_type": "text",
    "id": "BeGPcSYMOlv0"
   },
   "source": [
    "- **rank-k** tensors have a shape of $(n_1, \\dots, n_k)$"
   ]
  },
  {
   "cell_type": "code",
   "execution_count": 33,
   "metadata": {
    "colab": {
     "base_uri": "https://localhost:8080/",
     "height": 136
    },
    "colab_type": "code",
    "id": "hg5bbeCIjuL_",
    "outputId": "30c1f292-3bc3-4500-df7d-e7f92e3cda40"
   },
   "outputs": [
    {
     "name": "stdout",
     "output_type": "stream",
     "text": [
      "tensor([[[0., 0., 0., 0.],\n",
      "         [0., 0., 0., 0.],\n",
      "         [0., 0., 0., 0.]],\n",
      "\n",
      "        [[0., 0., 0., 0.],\n",
      "         [0., 0., 0., 0.],\n",
      "         [0., 0., 0., 0.]]]) <shape: torch.Size([2, 3, 4])> <dtype: torch.float32>\n"
     ]
    }
   ],
   "source": [
    "print_arr(torch.zeros((2, 3, 4)))"
   ]
  },
  {
   "cell_type": "code",
   "execution_count": 34,
   "metadata": {
    "colab": {
     "base_uri": "https://localhost:8080/",
     "height": 221
    },
    "colab_type": "code",
    "id": "3O68PwBGOjpe",
    "outputId": "3360da68-39d8-4e2f-d1f7-324bbfa9fc98"
   },
   "outputs": [
    {
     "name": "stdout",
     "output_type": "stream",
     "text": [
      "tensor([[[[1., 1.],\n",
      "          [1., 1.]],\n",
      "\n",
      "         [[1., 1.],\n",
      "          [1., 1.]]],\n",
      "\n",
      "\n",
      "        [[[1., 1.],\n",
      "          [1., 1.]],\n",
      "\n",
      "         [[1., 1.],\n",
      "          [1., 1.]]]]) <shape: torch.Size([2, 2, 2, 2])> <dtype: torch.float32>\n"
     ]
    }
   ],
   "source": [
    "print_arr(torch.ones((2, 2, 2, 2)))"
   ]
  },
  {
   "cell_type": "markdown",
   "metadata": {
    "colab_type": "text",
    "id": "xkugOzEKi3wk"
   },
   "source": [
    "> **EXERCISE**\n",
    ">\n",
    "> Build a tensor $X \\in R^{4 \\times 4}$ filled with zeros and the sequence $[0, 1, 2, 3]$ along the diagonal"
   ]
  },
  {
   "cell_type": "code",
   "execution_count": 35,
   "metadata": {
    "colab": {
     "base_uri": "https://localhost:8080/",
     "height": 85
    },
    "colab_type": "code",
    "id": "E3-vcutYkKH-",
    "outputId": "a4435ef4-1f45-45a3-8108-5fb388d8c04e"
   },
   "outputs": [
    {
     "data": {
      "text/plain": [
       "tensor([[0., 0., 0., 0.],\n",
       "        [0., 1., 0., 0.],\n",
       "        [0., 0., 2., 0.],\n",
       "        [0., 0., 2., 3.]])"
      ]
     },
     "execution_count": 35,
     "metadata": {
      "tags": []
     },
     "output_type": "execute_result"
    }
   ],
   "source": [
    "# Build the tensor manually\n",
    "b = torch.tensor([[0, 0, 0, 0],\n",
    "                  [0, 1, 0, 0],\n",
    "                  [0, 0, 2, 0],\n",
    "                  [0, 0, 2, 3]\n",
    "                  ], dtype=torch.float)\n",
    "b"
   ]
  },
  {
   "cell_type": "code",
   "execution_count": 36,
   "metadata": {
    "colab": {
     "base_uri": "https://localhost:8080/",
     "height": 85
    },
    "colab_type": "code",
    "id": "cAbsgXuSkHkz",
    "outputId": "f82d2d9f-5d51-4346-a752-6ba33ac09a4a"
   },
   "outputs": [
    {
     "data": {
      "text/plain": [
       "tensor([[0., 0., 0., 0.],\n",
       "        [0., 1., 0., 0.],\n",
       "        [0., 0., 2., 0.],\n",
       "        [0., 0., 0., 3.]])"
      ]
     },
     "execution_count": 36,
     "metadata": {
      "tags": []
     },
     "output_type": "execute_result"
    }
   ],
   "source": [
    "# Use advanced indexing\n",
    "a = torch.zeros(4, 4)\n",
    "indices = torch.arange(4, dtype=torch.long)\n",
    "a[indices, indices] = indices.to(torch.float)  # You can use `.to` to convert between types\n",
    "a"
   ]
  },
  {
   "cell_type": "markdown",
   "metadata": {
    "colab_type": "text",
    "id": "8Dixdu5yjZ0g"
   },
   "source": [
    "> **EXERCISE**\n",
    ">\n",
    "> Which is the shape of the following tensor?\n",
    "> \n",
    "> ```\n",
    "> tensor([[[1., 1.],\n",
    ">           [1., 1.]],\n",
    "> \n",
    ">          [[1., 1.],\n",
    ">           [1., 1.]],\n",
    ">\n",
    ">          [[1., 1.],\n",
    ">           [1., 1.]],\n",
    "> \n",
    ">          [[1., 1.],\n",
    ">           [1., 1.]]])\n",
    "> ```\n",
    "\n"
   ]
  },
  {
   "cell_type": "code",
   "execution_count": 37,
   "metadata": {
    "colab": {
     "base_uri": "https://localhost:8080/",
     "height": 34
    },
    "colab_type": "code",
    "id": "PXIhMoIO1DJA",
    "outputId": "0abbfbeb-f47d-4dab-bafc-fa671e7937b4"
   },
   "outputs": [
    {
     "data": {
      "text/plain": [
       "torch.Size([4, 2, 2])"
      ]
     },
     "execution_count": 37,
     "metadata": {
      "tags": []
     },
     "output_type": "execute_result"
    }
   ],
   "source": [
    "torch.tensor(\n",
    "    [\n",
    "     [[1., 1.],\n",
    "      [1., 1.]],\n",
    "     \n",
    "     [[1., 1.],\n",
    "      [1., 1.]],\n",
    "     \n",
    "     [[1., 1.],\n",
    "      [1., 1.]],\n",
    "     \n",
    "     [[1., 1.],\n",
    "      [1., 1.]]\n",
    "     ]).shape"
   ]
  },
  {
   "cell_type": "markdown",
   "metadata": {
    "colab_type": "text",
    "id": "tfGGF8mmSJkq"
   },
   "source": [
    "### **Changing and adding dimensions**\n",
    "\n",
    "PyTorch provides several functions to manipulate tensor's shapes\n"
   ]
  },
  {
   "cell_type": "markdown",
   "metadata": {
    "colab_type": "text",
    "id": "i51GvUnwSc0U"
   },
   "source": [
    "#### **Transpose dimension**"
   ]
  },
  {
   "cell_type": "code",
   "execution_count": 38,
   "metadata": {
    "colab": {
     "base_uri": "https://localhost:8080/",
     "height": 68
    },
    "colab_type": "code",
    "id": "g1kH1K7XS6KS",
    "outputId": "3ca64ee3-1bed-4d9d-de2d-52af9c09baa3"
   },
   "outputs": [
    {
     "name": "stdout",
     "output_type": "stream",
     "text": [
      "tensor([[1., 1., 1., 1., 0.],\n",
      "        [1., 1., 1., 1., 1.],\n",
      "        [1., 1., 1., 1., 1.]]) <shape: torch.Size([3, 5])> <dtype: torch.float32>\n"
     ]
    }
   ],
   "source": [
    "a = torch.ones((3, 5))\n",
    "a[0, -1] = 0\n",
    "print_arr(a)"
   ]
  },
  {
   "cell_type": "code",
   "execution_count": 39,
   "metadata": {
    "colab": {
     "base_uri": "https://localhost:8080/",
     "height": 102
    },
    "colab_type": "code",
    "id": "VqEfj7tuTAqK",
    "outputId": "824b6181-c34a-435f-b1e1-78ddcaaa9947"
   },
   "outputs": [
    {
     "data": {
      "text/plain": [
       "tensor([[1., 1., 1.],\n",
       "        [1., 1., 1.],\n",
       "        [1., 1., 1.],\n",
       "        [1., 1., 1.],\n",
       "        [0., 1., 1.]])"
      ]
     },
     "execution_count": 39,
     "metadata": {
      "tags": []
     },
     "output_type": "execute_result"
    }
   ],
   "source": [
    "a.transpose(1, 0)  # Swap dimension 1 and 0"
   ]
  },
  {
   "cell_type": "code",
   "execution_count": 40,
   "metadata": {
    "colab": {
     "base_uri": "https://localhost:8080/",
     "height": 102
    },
    "colab_type": "code",
    "id": "9wvUahrTS9uJ",
    "outputId": "099541a1-d721-46bc-af52-a17a420913e2"
   },
   "outputs": [
    {
     "data": {
      "text/plain": [
       "tensor([[1., 1., 1.],\n",
       "        [1., 1., 1.],\n",
       "        [1., 1., 1.],\n",
       "        [1., 1., 1.],\n",
       "        [0., 1., 1.]])"
      ]
     },
     "execution_count": 40,
     "metadata": {
      "tags": []
     },
     "output_type": "execute_result"
    }
   ],
   "source": [
    "torch.einsum('ij -> ji', a)"
   ]
  },
  {
   "cell_type": "code",
   "execution_count": 41,
   "metadata": {
    "colab": {
     "base_uri": "https://localhost:8080/",
     "height": 136
    },
    "colab_type": "code",
    "id": "Sww5AtujTPiJ",
    "outputId": "fc3e7393-f641-4905-de3b-2dc86d45f61d"
   },
   "outputs": [
    {
     "name": "stdout",
     "output_type": "stream",
     "text": [
      "tensor([[[ 1.,  1.,  1.,  1.,  1.,  1.],\n",
      "         [ 1.,  1.,  1.,  1.,  1.,  1.],\n",
      "         [ 1.,  1.,  1.,  1.,  1.,  1.]],\n",
      "\n",
      "        [[ 1.,  1.,  1.,  1.,  1.,  1.],\n",
      "         [ 1.,  1.,  1.,  1.,  1.,  1.],\n",
      "         [ 1.,  1.,  1.,  1., 42.,  1.]]]) <shape: torch.Size([2, 3, 6])> <dtype: torch.float32>\n"
     ]
    }
   ],
   "source": [
    "# It is possible to transpose in k-dimensions\n",
    "a = torch.ones((2, 3, 6))\n",
    "a[1, 2, 4] = 42\n",
    "print_arr(a)"
   ]
  },
  {
   "cell_type": "code",
   "execution_count": 42,
   "metadata": {
    "colab": {
     "base_uri": "https://localhost:8080/",
     "height": 238
    },
    "colab_type": "code",
    "id": "bFezEV5uTc1W",
    "outputId": "e11d3ecb-a4b6-433a-8082-703150eab061"
   },
   "outputs": [
    {
     "data": {
      "text/plain": [
       "tensor([[[ 1.,  1.,  1.],\n",
       "         [ 1.,  1.,  1.],\n",
       "         [ 1.,  1.,  1.],\n",
       "         [ 1.,  1.,  1.],\n",
       "         [ 1.,  1.,  1.],\n",
       "         [ 1.,  1.,  1.]],\n",
       "\n",
       "        [[ 1.,  1.,  1.],\n",
       "         [ 1.,  1.,  1.],\n",
       "         [ 1.,  1.,  1.],\n",
       "         [ 1.,  1.,  1.],\n",
       "         [ 1.,  1., 42.],\n",
       "         [ 1.,  1.,  1.]]])"
      ]
     },
     "execution_count": 42,
     "metadata": {
      "tags": []
     },
     "output_type": "execute_result"
    }
   ],
   "source": [
    "a.transpose(2, 1)"
   ]
  },
  {
   "cell_type": "code",
   "execution_count": 43,
   "metadata": {
    "colab": {
     "base_uri": "https://localhost:8080/",
     "height": 238
    },
    "colab_type": "code",
    "id": "pIYTVMyRUC1e",
    "outputId": "dcab28b1-d9e1-418b-e59f-2ea1a5c7dac4"
   },
   "outputs": [
    {
     "data": {
      "text/plain": [
       "tensor([[[ 1.,  1.,  1.],\n",
       "         [ 1.,  1.,  1.],\n",
       "         [ 1.,  1.,  1.],\n",
       "         [ 1.,  1.,  1.],\n",
       "         [ 1.,  1.,  1.],\n",
       "         [ 1.,  1.,  1.]],\n",
       "\n",
       "        [[ 1.,  1.,  1.],\n",
       "         [ 1.,  1.,  1.],\n",
       "         [ 1.,  1.,  1.],\n",
       "         [ 1.,  1.,  1.],\n",
       "         [ 1.,  1., 42.],\n",
       "         [ 1.,  1.,  1.]]])"
      ]
     },
     "execution_count": 43,
     "metadata": {
      "tags": []
     },
     "output_type": "execute_result"
    }
   ],
   "source": [
    "torch.einsum('ijk->ikj', a)"
   ]
  },
  {
   "cell_type": "markdown",
   "metadata": {
    "colab_type": "text",
    "id": "a9Jshcp9Ul5O"
   },
   "source": [
    "> **NOTE**\n",
    ">\n",
    "> In Numpy the transpose function is different!"
   ]
  },
  {
   "cell_type": "code",
   "execution_count": 44,
   "metadata": {
    "colab": {
     "base_uri": "https://localhost:8080/",
     "height": 51
    },
    "colab_type": "code",
    "id": "K9ktDbO5Uswj",
    "outputId": "170a8f48-3f68-4121-ff24-63798eea8be9"
   },
   "outputs": [
    {
     "data": {
      "text/plain": [
       "array([[0, 1, 2, 3, 4],\n",
       "       [5, 6, 7, 8, 9]])"
      ]
     },
     "execution_count": 44,
     "metadata": {
      "tags": []
     },
     "output_type": "execute_result"
    }
   ],
   "source": [
    "a = np.arange(10).reshape(2, 5)\n",
    "a"
   ]
  },
  {
   "cell_type": "code",
   "execution_count": 45,
   "metadata": {
    "colab": {
     "base_uri": "https://localhost:8080/",
     "height": 51
    },
    "colab_type": "code",
    "id": "8LLh0Qd7U2xT",
    "outputId": "e88abc53-da84-42a3-8f6b-ed847375726e"
   },
   "outputs": [
    {
     "data": {
      "text/plain": [
       "array([[0, 1, 2, 3, 4],\n",
       "       [5, 6, 7, 8, 9]])"
      ]
     },
     "execution_count": 45,
     "metadata": {
      "tags": []
     },
     "output_type": "execute_result"
    }
   ],
   "source": [
    "a.transpose(0, 1)"
   ]
  },
  {
   "cell_type": "code",
   "execution_count": 46,
   "metadata": {
    "colab": {
     "base_uri": "https://localhost:8080/",
     "height": 102
    },
    "colab_type": "code",
    "id": "4XA2bi18Uyox",
    "outputId": "bc66be3d-df3d-4d2b-8dd5-713b62c9b6bb"
   },
   "outputs": [
    {
     "data": {
      "text/plain": [
       "array([[0, 5],\n",
       "       [1, 6],\n",
       "       [2, 7],\n",
       "       [3, 8],\n",
       "       [4, 9]])"
      ]
     },
     "execution_count": 46,
     "metadata": {
      "tags": []
     },
     "output_type": "execute_result"
    }
   ],
   "source": [
    "a.transpose(1, 0)"
   ]
  },
  {
   "cell_type": "code",
   "execution_count": 47,
   "metadata": {
    "colab": {
     "base_uri": "https://localhost:8080/",
     "height": 102
    },
    "colab_type": "code",
    "id": "fsU83yRwU9VW",
    "outputId": "256ea379-9b2b-46b1-d755-c6d310d305be"
   },
   "outputs": [
    {
     "data": {
      "text/plain": [
       "array([[0, 5],\n",
       "       [1, 6],\n",
       "       [2, 7],\n",
       "       [3, 8],\n",
       "       [4, 9]])"
      ]
     },
     "execution_count": 47,
     "metadata": {
      "tags": []
     },
     "output_type": "execute_result"
    }
   ],
   "source": [
    "np.einsum('ij -> ji', a)"
   ]
  },
  {
   "cell_type": "markdown",
   "metadata": {
    "colab_type": "text",
    "id": "RWaicg6uVIXQ"
   },
   "source": [
    "#### **Reshape**\n",
    "\n",
    "Another important feature is **reshaping** a tensor into different dimensions\n",
    "\n",
    "- We need to make sure to **preserve the same number of elements**. \n",
    "- Use `-1` in one of the dimensions to tell numpy to **figure it out**.\n"
   ]
  },
  {
   "cell_type": "markdown",
   "metadata": {
    "colab_type": "text",
    "id": "L5uTNjKI15kx"
   },
   "source": [
    "Pay attention that **transposing and reshaping are two fundamentally different operations**:"
   ]
  },
  {
   "cell_type": "code",
   "execution_count": 48,
   "metadata": {
    "colab": {
     "base_uri": "https://localhost:8080/",
     "height": 68
    },
    "colab_type": "code",
    "id": "W01aXqIZwfCu",
    "outputId": "f729f3e7-be26-4650-ecaa-73243c05063b"
   },
   "outputs": [
    {
     "data": {
      "text/plain": [
       "tensor([[ 0,  1,  2,  3],\n",
       "        [ 4,  5,  6,  7],\n",
       "        [ 8,  9, 10, 11]])"
      ]
     },
     "execution_count": 48,
     "metadata": {
      "tags": []
     },
     "output_type": "execute_result"
    }
   ],
   "source": [
    "a = torch.arange(12).reshape(3,4 )\n",
    "a"
   ]
  },
  {
   "cell_type": "code",
   "execution_count": 49,
   "metadata": {
    "colab": {
     "base_uri": "https://localhost:8080/",
     "height": 85
    },
    "colab_type": "code",
    "id": "c67xp19WwmGP",
    "outputId": "205ad322-f736-43a8-b843-7ea2753b7886"
   },
   "outputs": [
    {
     "data": {
      "text/plain": [
       "tensor([[ 0,  4,  8],\n",
       "        [ 1,  5,  9],\n",
       "        [ 2,  6, 10],\n",
       "        [ 3,  7, 11]])"
      ]
     },
     "execution_count": 49,
     "metadata": {
      "tags": []
     },
     "output_type": "execute_result"
    }
   ],
   "source": [
    "# The classical transpose\n",
    "a.t()"
   ]
  },
  {
   "cell_type": "code",
   "execution_count": 50,
   "metadata": {
    "colab": {
     "base_uri": "https://localhost:8080/",
     "height": 85
    },
    "colab_type": "code",
    "id": "EenpJs6gwoLd",
    "outputId": "97cb6be5-e7f8-4f8e-be26-99e05a1878ec"
   },
   "outputs": [
    {
     "data": {
      "text/plain": [
       "tensor([[ 0,  1,  2],\n",
       "        [ 3,  4,  5],\n",
       "        [ 6,  7,  8],\n",
       "        [ 9, 10, 11]])"
      ]
     },
     "execution_count": 50,
     "metadata": {
      "tags": []
     },
     "output_type": "execute_result"
    }
   ],
   "source": [
    "# Reshape into the transpose shape\n",
    "a.reshape(4, 3)"
   ]
  },
  {
   "cell_type": "markdown",
   "metadata": {
    "colab_type": "text",
    "id": "wJPn4ArY2Q6E"
   },
   "source": [
    "Think of the `reshape` operations as unrolling the tensor **row-wise**, to obtain a rank-1 tensor. Then organize the values in this tensor following the specified dimensions.\n",
    "\n",
    "```\n",
    "tensor([[ 0,  1,  2,  3],\n",
    "        [ 4,  5,  6,  7],\n",
    "        [ 8,  9, 10, 11]])\n",
    "```\n",
    "$ \\to $\n",
    "```\n",
    "tensor([ 0,  1,  2,  3,  4,  5,  6,  7,  8,  9, 10, 11])\n",
    "```\n",
    "\n",
    "Then, starting from the right-most dimension's size, organize the values into the dimensions\n",
    "\n",
    "- e.g. reshape into `[4, 3]`:\n",
    "```\n",
    "tensor([ 0,  1,  2,  3,  4,  5,  6,  7,  8,  9, 10, 11])\n",
    "```\n",
    "$ \\to $\n",
    "```\n",
    "tensor([[0,  1,  2],  [3,  4,  5],  [6,  7,  8],  [9, 10, 11]])\n",
    "```\n",
    "$ \\to $\n",
    "```\n",
    "tensor([[ 0,  1,  2],\n",
    "        [ 3,  4,  5],\n",
    "        [ 6,  7,  8],\n",
    "        [ 9, 10, 11]])\n",
    "```\n",
    "\n",
    "- e.g. reshape into `[2, 2, 3]`:\n",
    "```\n",
    "tensor([ 0,  1,  2,  3,  4,  5,  6,  7,  8,  9, 10, 11])\n",
    "```\n",
    "$ \\to $\n",
    "```\n",
    "tensor([[0,  1,  2],  [3,  4,  5],  [6,  7,  8],  [9, 10, 11]])\n",
    "```\n",
    "$ \\to $\n",
    "```\n",
    "tensor([[[0,  1,  2],  [3,  4,  5]],  [[6,  7,  8],  [9, 10, 11]]])\n",
    "```\n",
    "$ \\to $\n",
    "```\n",
    "tensor([[[ 0,  1,  2],\n",
    "         [ 3,  4,  5]],\n",
    "\n",
    "        [[ 6,  7,  8],\n",
    "         [ 9, 10, 11]]])\n",
    "```"
   ]
  },
  {
   "cell_type": "code",
   "execution_count": 51,
   "metadata": {
    "colab": {
     "base_uri": "https://localhost:8080/",
     "height": 54
    },
    "colab_type": "code",
    "id": "U3U_yh07Vf7m",
    "outputId": "7aa54087-986b-4435-bc3a-e04da62f4535"
   },
   "outputs": [
    {
     "name": "stdout",
     "output_type": "stream",
     "text": [
      "tensor([ 0,  1,  2,  3,  4,  5,  6,  7,  8,  9, 10, 11]) <shape: torch.Size([12])> <dtype: torch.int64>\n"
     ]
    }
   ],
   "source": [
    "a = torch.arange(12)\n",
    "print_arr(a)"
   ]
  },
  {
   "cell_type": "code",
   "execution_count": 52,
   "metadata": {
    "colab": {
     "base_uri": "https://localhost:8080/",
     "height": 119
    },
    "colab_type": "code",
    "id": "_mqUJve9VjUQ",
    "outputId": "4e039839-ac8b-4d2c-9595-ffb96ccf7a68"
   },
   "outputs": [
    {
     "data": {
      "text/plain": [
       "tensor([[ 0,  1],\n",
       "        [ 2,  3],\n",
       "        [ 4,  5],\n",
       "        [ 6,  7],\n",
       "        [ 8,  9],\n",
       "        [10, 11]])"
      ]
     },
     "execution_count": 52,
     "metadata": {
      "tags": []
     },
     "output_type": "execute_result"
    }
   ],
   "source": [
    "a.reshape(6, 2)"
   ]
  },
  {
   "cell_type": "code",
   "execution_count": 53,
   "metadata": {
    "colab": {
     "base_uri": "https://localhost:8080/",
     "height": 51
    },
    "colab_type": "code",
    "id": "i-qtMeW0VnTu",
    "outputId": "00232de7-399d-4ed6-a76e-e3105d5225e1"
   },
   "outputs": [
    {
     "data": {
      "text/plain": [
       "tensor([[ 0,  1,  2,  3,  4,  5],\n",
       "        [ 6,  7,  8,  9, 10, 11]])"
      ]
     },
     "execution_count": 53,
     "metadata": {
      "tags": []
     },
     "output_type": "execute_result"
    }
   ],
   "source": [
    "a.reshape(2, 6)"
   ]
  },
  {
   "cell_type": "code",
   "execution_count": 54,
   "metadata": {
    "colab": {
     "base_uri": "https://localhost:8080/",
     "height": 102
    },
    "colab_type": "code",
    "id": "S9miZ3XUqxvc",
    "outputId": "89a5e797-a8fe-4333-ff49-65dd3e1c1c43"
   },
   "outputs": [
    {
     "data": {
      "text/plain": [
       "tensor([[[ 0,  1,  2],\n",
       "         [ 3,  4,  5]],\n",
       "\n",
       "        [[ 6,  7,  8],\n",
       "         [ 9, 10, 11]]])"
      ]
     },
     "execution_count": 54,
     "metadata": {
      "tags": []
     },
     "output_type": "execute_result"
    }
   ],
   "source": [
    "a.reshape(2, 2, 3)"
   ]
  },
  {
   "cell_type": "code",
   "execution_count": 55,
   "metadata": {
    "colab": {
     "base_uri": "https://localhost:8080/",
     "height": 34
    },
    "colab_type": "code",
    "id": "1rUiVJQgWibl",
    "outputId": "5cf0731e-450a-41e3-a8b0-d032687040aa"
   },
   "outputs": [
    {
     "name": "stdout",
     "output_type": "stream",
     "text": [
      "shape '[5, -1]' is invalid for input of size 12\n"
     ]
    }
   ],
   "source": [
    "try:\n",
    "  a.reshape(5, -1)\n",
    "except RuntimeError as e:\n",
    "  print(e)"
   ]
  },
  {
   "cell_type": "code",
   "execution_count": 56,
   "metadata": {
    "colab": {
     "base_uri": "https://localhost:8080/",
     "height": 34
    },
    "colab_type": "code",
    "id": "9STd1HDBWkym",
    "outputId": "882f4e72-8442-4342-dff8-03c852f613fd"
   },
   "outputs": [
    {
     "data": {
      "text/plain": [
       "tensor([[ 0,  1,  2,  3,  4,  5,  6,  7,  8,  9, 10, 11]])"
      ]
     },
     "execution_count": 56,
     "metadata": {
      "tags": []
     },
     "output_type": "execute_result"
    }
   ],
   "source": [
    "a.reshape(1, -1)"
   ]
  },
  {
   "cell_type": "code",
   "execution_count": 57,
   "metadata": {
    "colab": {
     "base_uri": "https://localhost:8080/",
     "height": 221
    },
    "colab_type": "code",
    "id": "-zjpBpctWr-D",
    "outputId": "84cc22cd-d939-45c7-8fae-9826ce68ab87"
   },
   "outputs": [
    {
     "data": {
      "text/plain": [
       "tensor([[ 0],\n",
       "        [ 1],\n",
       "        [ 2],\n",
       "        [ 3],\n",
       "        [ 4],\n",
       "        [ 5],\n",
       "        [ 6],\n",
       "        [ 7],\n",
       "        [ 8],\n",
       "        [ 9],\n",
       "        [10],\n",
       "        [11]])"
      ]
     },
     "execution_count": 57,
     "metadata": {
      "tags": []
     },
     "output_type": "execute_result"
    }
   ],
   "source": [
    "a.reshape(-1, 1)"
   ]
  },
  {
   "cell_type": "code",
   "execution_count": 58,
   "metadata": {
    "colab": {
     "base_uri": "https://localhost:8080/",
     "height": 34
    },
    "colab_type": "code",
    "id": "qWpSkDFAWo_Q",
    "outputId": "5193f6bc-69f6-43a7-c096-3f4ef8c023f4"
   },
   "outputs": [
    {
     "data": {
      "text/plain": [
       "tensor([ 0,  1,  2,  3,  4,  5,  6,  7,  8,  9, 10, 11])"
      ]
     },
     "execution_count": 58,
     "metadata": {
      "tags": []
     },
     "output_type": "execute_result"
    }
   ],
   "source": [
    "a.reshape(-1)"
   ]
  },
  {
   "cell_type": "markdown",
   "metadata": {
    "colab_type": "text",
    "id": "RS6Bg3gg-X-F"
   },
   "source": [
    "> **NOTE**\n",
    ">\n",
    "> We can add or remove dimensions of size `1` using `torch.unsqueeze` or `torch.squeeze`"
   ]
  },
  {
   "cell_type": "markdown",
   "metadata": {
    "colab_type": "text",
    "id": "OYWdXFvqrbqS"
   },
   "source": [
    "> **NOTE**\n",
    ">\n",
    "> If you want to be sure to obtain a reshaped view of the tensor, sharing the same underlying data avoiding copying data, you can use the `torch.view` method.\n",
    "> It's semantic is similar to `reshape`, but it works only on `contiguous` tensors and it guarantees that no copy will be performed."
   ]
  },
  {
   "cell_type": "markdown",
   "metadata": {
    "colab_type": "text",
    "id": "zjvDvo4yXAk-"
   },
   "source": [
    "#### **Concatenation**\n",
    "\n",
    "PyTorch provides many functions to manipulate tensors. \n",
    "Two of the most common functions are:\n",
    "\n",
    "- `torch.stack`: Concatenates sequence of tensors along a new dimension.\n",
    "- `torch.cat`: Concatenates the given sequence of seq tensors in the given dimension."
   ]
  },
  {
   "cell_type": "code",
   "execution_count": 59,
   "metadata": {
    "colab": {
     "base_uri": "https://localhost:8080/",
     "height": 136
    },
    "colab_type": "code",
    "id": "Oq1IMbFvXLPk",
    "outputId": "2fd78ed2-2058-4631-d238-d656427c2bd9"
   },
   "outputs": [
    {
     "name": "stdout",
     "output_type": "stream",
     "text": [
      "tensor([[ 0,  1,  2,  3],\n",
      "        [ 4,  5,  6,  7],\n",
      "        [ 8,  9, 10, 11]]) <shape: torch.Size([3, 4])> <dtype: torch.int64>\n",
      "\n",
      "tensor([[100, 101, 102, 103],\n",
      "        [104, 105, 106, 107],\n",
      "        [108, 109, 110, 111]]) <shape: torch.Size([3, 4])> <dtype: torch.int64>\n"
     ]
    }
   ],
   "source": [
    "a = torch.arange(12).reshape(3, 4)\n",
    "b = torch.arange(12).reshape(3, 4) + 100\n",
    "print_arr(a, b)"
   ]
  },
  {
   "cell_type": "code",
   "execution_count": 60,
   "metadata": {
    "colab": {
     "base_uri": "https://localhost:8080/",
     "height": 119
    },
    "colab_type": "code",
    "id": "EsyXtEm4XRf1",
    "outputId": "591d9ca8-beb0-4a56-fe93-23ae509f676c"
   },
   "outputs": [
    {
     "name": "stdout",
     "output_type": "stream",
     "text": [
      "tensor([[  0,   1,   2,   3],\n",
      "        [  4,   5,   6,   7],\n",
      "        [  8,   9,  10,  11],\n",
      "        [100, 101, 102, 103],\n",
      "        [104, 105, 106, 107],\n",
      "        [108, 109, 110, 111]]) <shape: torch.Size([6, 4])> <dtype: torch.int64>\n"
     ]
    }
   ],
   "source": [
    "out = torch.cat((a, b), dim=0)\n",
    "print_arr(out)"
   ]
  },
  {
   "cell_type": "code",
   "execution_count": 61,
   "metadata": {
    "colab": {
     "base_uri": "https://localhost:8080/",
     "height": 136
    },
    "colab_type": "code",
    "id": "0k47GtMRX79a",
    "outputId": "7e5c2a13-2e46-4117-f493-3423f770a3e8"
   },
   "outputs": [
    {
     "name": "stdout",
     "output_type": "stream",
     "text": [
      "tensor([[[  0,   1,   2,   3],\n",
      "         [  4,   5,   6,   7],\n",
      "         [  8,   9,  10,  11]],\n",
      "\n",
      "        [[100, 101, 102, 103],\n",
      "         [104, 105, 106, 107],\n",
      "         [108, 109, 110, 111]]]) <shape: torch.Size([2, 3, 4])> <dtype: torch.int64>\n"
     ]
    }
   ],
   "source": [
    "out = torch.stack((a, b), dim=0)\n",
    "print_arr(out)"
   ]
  },
  {
   "cell_type": "markdown",
   "metadata": {
    "colab_type": "text",
    "id": "VYocF4AUBJN4"
   },
   "source": [
    "> **EXERCISE**\n",
    ">\n",
    "> Given a rank-1 array of increasing numbers from `0` to `9`, defined as:\n",
    ">"
   ]
  },
  {
   "cell_type": "code",
   "execution_count": 62,
   "metadata": {
    "colab": {
     "base_uri": "https://localhost:8080/",
     "height": 34
    },
    "colab_type": "code",
    "id": "leLESEEVD-Eq",
    "outputId": "b4f066ae-13d6-4c3e-fe61-9e94009a0f40"
   },
   "outputs": [
    {
     "data": {
      "text/plain": [
       "tensor([0, 1, 2, 3, 4, 5, 6, 7, 8, 9])"
      ]
     },
     "execution_count": 62,
     "metadata": {
      "tags": []
     },
     "output_type": "execute_result"
    }
   ],
   "source": [
    "a = torch.arange(10)\n",
    "a"
   ]
  },
  {
   "cell_type": "markdown",
   "metadata": {
    "colab_type": "text",
    "id": "zRz1C_TRD_cL"
   },
   "source": [
    "> Use only the `reshape` and `transpose` function to obtain the following tensor from `a`:\n",
    ">\n",
    "> ```python\n",
    "> tensor([[0, 2, 4, 6, 8],\n",
    ">         [1, 3, 5, 7, 9]])\n",
    "> ```"
   ]
  },
  {
   "cell_type": "code",
   "execution_count": 63,
   "metadata": {
    "colab": {
     "base_uri": "https://localhost:8080/",
     "height": 51
    },
    "colab_type": "code",
    "id": "0OpbO_nvoVCf",
    "outputId": "d6bd0137-c50d-4319-9d27-da7e6869a1d0"
   },
   "outputs": [
    {
     "data": {
      "text/plain": [
       "tensor([[0, 2, 4, 6, 8],\n",
       "        [1, 3, 5, 7, 9]])"
      ]
     },
     "execution_count": 63,
     "metadata": {
      "tags": []
     },
     "output_type": "execute_result"
    }
   ],
   "source": [
    "a.reshape(5, 2).t()"
   ]
  },
  {
   "cell_type": "markdown",
   "metadata": {
    "colab_type": "text",
    "id": "qHQFWwzCn8k7"
   },
   "source": [
    "> **EXERCISE**\n",
    ">\n",
    "> Given a tensor $X \\in R^{3 \\times 5 \\times 8 \\times 10}$ reshape it in order to obtain a tensor $Y \\in R^{10 \\times 8 \\times 3 \\times 5}$\n"
   ]
  },
  {
   "cell_type": "code",
   "execution_count": 64,
   "metadata": {
    "colab": {
     "base_uri": "https://localhost:8080/",
     "height": 34
    },
    "colab_type": "code",
    "id": "PrMb_KB_ogMs",
    "outputId": "4aa888e0-7976-4e32-babe-074abe6eea9e"
   },
   "outputs": [
    {
     "data": {
      "text/plain": [
       "torch.Size([3, 5, 8, 10])"
      ]
     },
     "execution_count": 64,
     "metadata": {
      "tags": []
     },
     "output_type": "execute_result"
    }
   ],
   "source": [
    "a = torch.rand(3, 5, 8, 10)\n",
    "a.shape"
   ]
  },
  {
   "cell_type": "code",
   "execution_count": 65,
   "metadata": {
    "colab": {
     "base_uri": "https://localhost:8080/",
     "height": 34
    },
    "colab_type": "code",
    "id": "OuYInRwYoqr5",
    "outputId": "27bcef09-bece-4b23-edf8-1e14ddd48989"
   },
   "outputs": [
    {
     "data": {
      "text/plain": [
       "torch.Size([10, 8, 3, 5])"
      ]
     },
     "execution_count": 65,
     "metadata": {
      "tags": []
     },
     "output_type": "execute_result"
    }
   ],
   "source": [
    "y = torch.einsum('abcd -> dcab', a)\n",
    "y.shape\n",
    "\n",
    "# a.reshape(10, 8, 3, 5) is wrong!"
   ]
  },
  {
   "cell_type": "code",
   "execution_count": 66,
   "metadata": {
    "colab": {
     "base_uri": "https://localhost:8080/",
     "height": 34
    },
    "colab_type": "code",
    "id": "AacuHbFFCP7G",
    "outputId": "d4d38a86-115b-4483-e374-148131061a39"
   },
   "outputs": [
    {
     "data": {
      "text/plain": [
       "torch.Size([10, 8, 3, 5])"
      ]
     },
     "execution_count": 66,
     "metadata": {
      "tags": []
     },
     "output_type": "execute_result"
    }
   ],
   "source": [
    "# If you want you can use multiple transpose...\n",
    "o = a.transpose(0, 3)\n",
    "o = o.transpose(-1, -2)\n",
    "o = o.transpose(1, -1)\n",
    "o.shape"
   ]
  },
  {
   "cell_type": "code",
   "execution_count": 67,
   "metadata": {
    "colab": {
     "base_uri": "https://localhost:8080/",
     "height": 34
    },
    "colab_type": "code",
    "id": "FWMW24e7CaT5",
    "outputId": "67785c1b-e346-4781-9ab5-bc93cfd55dc5"
   },
   "outputs": [
    {
     "data": {
      "text/plain": [
       "True"
      ]
     },
     "execution_count": 67,
     "metadata": {
      "tags": []
     },
     "output_type": "execute_result"
    }
   ],
   "source": [
    "torch.equal(y, o)"
   ]
  },
  {
   "cell_type": "markdown",
   "metadata": {
    "colab_type": "text",
    "id": "QPHnbIH_rn_C"
   },
   "source": [
    "### **Tensor indexing**\n",
    "\n",
    "PyTorch offers several ways to index tensors\n"
   ]
  },
  {
   "cell_type": "markdown",
   "metadata": {
    "colab_type": "text",
    "id": "U68ToAl1r_dG"
   },
   "source": [
    "#### **Standard indexing**\n",
    "\n",
    "As standard Python lists, PyTorch tensors support the python indexing convenctions:"
   ]
  },
  {
   "cell_type": "code",
   "execution_count": 68,
   "metadata": {
    "colab": {
     "base_uri": "https://localhost:8080/",
     "height": 34
    },
    "colab_type": "code",
    "id": "PWzGd3vYsb8e",
    "outputId": "fdadac7e-2394-4456-841a-a3ba35504463"
   },
   "outputs": [
    {
     "data": {
      "text/plain": [
       "tensor([0, 1, 2, 3, 4, 5, 6, 7, 8, 9])"
      ]
     },
     "execution_count": 68,
     "metadata": {
      "tags": []
     },
     "output_type": "execute_result"
    }
   ],
   "source": [
    "a = torch.arange(10)\n",
    "a"
   ]
  },
  {
   "cell_type": "code",
   "execution_count": 69,
   "metadata": {
    "colab": {
     "base_uri": "https://localhost:8080/",
     "height": 51
    },
    "colab_type": "code",
    "id": "vTn3_9F3tAVl",
    "outputId": "a149a89d-e2f7-4e7a-9cf5-fa7ec176d820"
   },
   "outputs": [
    {
     "name": "stdout",
     "output_type": "stream",
     "text": [
      "tensor(0)\n",
      "tensor(1)\n"
     ]
    }
   ],
   "source": [
    "print(a[0])  # first element\n",
    "print(a[1])  # second element"
   ]
  },
  {
   "cell_type": "code",
   "execution_count": 70,
   "metadata": {
    "colab": {
     "base_uri": "https://localhost:8080/",
     "height": 51
    },
    "colab_type": "code",
    "id": "vDGstnvrs6wf",
    "outputId": "55b653d2-47fb-4e72-941b-d9f65501058b"
   },
   "outputs": [
    {
     "name": "stdout",
     "output_type": "stream",
     "text": [
      "tensor(9)\n",
      "tensor(8)\n"
     ]
    }
   ],
   "source": [
    "print(a[-1])  # last element\n",
    "print(a[-2])  # second last element"
   ]
  },
  {
   "cell_type": "markdown",
   "metadata": {
    "colab_type": "text",
    "id": "t_uRKJqor2Ty"
   },
   "source": [
    "#### **Multidimensional indexing**\n",
    "\n",
    "Since tensors may be multidimensional, you must specify **one index for each dimension**:"
   ]
  },
  {
   "cell_type": "code",
   "execution_count": 71,
   "metadata": {
    "colab": {
     "base_uri": "https://localhost:8080/",
     "height": 51
    },
    "colab_type": "code",
    "id": "4oSg1hGQtyT8",
    "outputId": "7eccc7b3-39c1-49de-c794-7030d0ef21c7"
   },
   "outputs": [
    {
     "data": {
      "text/plain": [
       "tensor([[0, 1, 2, 3, 4],\n",
       "        [5, 6, 7, 8, 9]])"
      ]
     },
     "execution_count": 71,
     "metadata": {
      "tags": []
     },
     "output_type": "execute_result"
    }
   ],
   "source": [
    "a = torch.arange(10).reshape(2, 5)\n",
    "a"
   ]
  },
  {
   "cell_type": "code",
   "execution_count": 72,
   "metadata": {
    "colab": {
     "base_uri": "https://localhost:8080/",
     "height": 34
    },
    "colab_type": "code",
    "id": "p_d7tUsVuKNM",
    "outputId": "97d4ea55-92e0-4002-f205-4426394d3098"
   },
   "outputs": [
    {
     "data": {
      "text/plain": [
       "tensor([0, 1, 2, 3, 4])"
      ]
     },
     "execution_count": 72,
     "metadata": {
      "tags": []
     },
     "output_type": "execute_result"
    }
   ],
   "source": [
    "a[0]"
   ]
  },
  {
   "cell_type": "code",
   "execution_count": 73,
   "metadata": {
    "colab": {
     "base_uri": "https://localhost:8080/",
     "height": 34
    },
    "colab_type": "code",
    "id": "6zErRdLjud3S",
    "outputId": "dd5473fa-1ddf-4016-bc29-10e16844f4c4"
   },
   "outputs": [
    {
     "data": {
      "text/plain": [
       "tensor([5, 6, 7, 8, 9])"
      ]
     },
     "execution_count": 73,
     "metadata": {
      "tags": []
     },
     "output_type": "execute_result"
    }
   ],
   "source": [
    "a[1]"
   ]
  },
  {
   "cell_type": "code",
   "execution_count": 74,
   "metadata": {
    "colab": {
     "base_uri": "https://localhost:8080/",
     "height": 34
    },
    "colab_type": "code",
    "id": "j40QvNuLugWX",
    "outputId": "2a4d63fe-9f89-4c74-8e1b-76daeb43c594"
   },
   "outputs": [
    {
     "data": {
      "text/plain": [
       "tensor(4)"
      ]
     },
     "execution_count": 74,
     "metadata": {
      "tags": []
     },
     "output_type": "execute_result"
    }
   ],
   "source": [
    "a[0, -1]"
   ]
  },
  {
   "cell_type": "markdown",
   "metadata": {
    "colab_type": "text",
    "id": "XY76VPqCuhc1"
   },
   "source": [
    "#### **Slicing**\n",
    "\n",
    "Similar to Python lists and Numpy arrays, PyTorch tensors can be easily sliced using the slice notation:\n",
    "\n",
    "```python\n",
    "a[start:stop]  # items start through stop-1\n",
    "a[start:]      # items start through the rest of the array\n",
    "a[:stop]       # items from the beginning through stop-1\n",
    "a[:]           # a copy of the whole array\n",
    "```\n",
    "\n",
    "There is also the step value, which can be used with any of the above:\n",
    "\n",
    "```python\n",
    "a[start:stop:step] # start through not past stop, by step\n",
    "```"
   ]
  },
  {
   "cell_type": "code",
   "execution_count": 75,
   "metadata": {
    "colab": {
     "base_uri": "https://localhost:8080/",
     "height": 34
    },
    "colab_type": "code",
    "id": "ku-xaZ7LvjR5",
    "outputId": "e2a4832b-b6a5-4ed4-e670-cbf11b8fc71a"
   },
   "outputs": [
    {
     "data": {
      "text/plain": [
       "tensor([0, 1, 2, 3, 4, 5, 6, 7, 8, 9])"
      ]
     },
     "execution_count": 75,
     "metadata": {
      "tags": []
     },
     "output_type": "execute_result"
    }
   ],
   "source": [
    "a = torch.arange(10)\n",
    "a"
   ]
  },
  {
   "cell_type": "code",
   "execution_count": 76,
   "metadata": {
    "colab": {
     "base_uri": "https://localhost:8080/",
     "height": 34
    },
    "colab_type": "code",
    "id": "aut0rgIEwIG_",
    "outputId": "417f6857-e3ec-4cbe-d5bb-d4c772c783dd"
   },
   "outputs": [
    {
     "data": {
      "text/plain": [
       "tensor([5, 6, 7, 8, 9])"
      ]
     },
     "execution_count": 76,
     "metadata": {
      "tags": []
     },
     "output_type": "execute_result"
    }
   ],
   "source": [
    "# Take the last 5 elements\n",
    "a[-5:]"
   ]
  },
  {
   "cell_type": "code",
   "execution_count": 77,
   "metadata": {
    "colab": {
     "base_uri": "https://localhost:8080/",
     "height": 34
    },
    "colab_type": "code",
    "id": "UZ3vLffywvQt",
    "outputId": "2e3eea24-ddbd-4f2f-c39d-7e9f0b88ff77"
   },
   "outputs": [
    {
     "data": {
      "text/plain": [
       "tensor([0, 2, 4, 6, 8])"
      ]
     },
     "execution_count": 77,
     "metadata": {
      "tags": []
     },
     "output_type": "execute_result"
    }
   ],
   "source": [
    "# Index every element in a even index\n",
    "a[::2]"
   ]
  },
  {
   "cell_type": "markdown",
   "metadata": {
    "colab_type": "text",
    "id": "TjIcC1HqwvU1"
   },
   "source": [
    "> **NOTE**\n",
    ">\n",
    "> Remember that the **slice syntax** is just a shortand.\n",
    ">\n",
    "> In Python everything is an object, even a ``slice``.\n",
    "> It is possible to explicitly create a ``Slice`` object and reuse it to **index multiple tensors in the same way**:\n",
    "\n",
    "\n",
    "\n"
   ]
  },
  {
   "cell_type": "code",
   "execution_count": 78,
   "metadata": {
    "colab": {
     "base_uri": "https://localhost:8080/",
     "height": 34
    },
    "colab_type": "code",
    "id": "3D8qk7q0xUAb",
    "outputId": "8bc2f5f9-c4a8-4338-fa79-3410ded76edf"
   },
   "outputs": [
    {
     "data": {
      "text/plain": [
       "slice(None, 3, None)"
      ]
     },
     "execution_count": 78,
     "metadata": {
      "tags": []
     },
     "output_type": "execute_result"
    }
   ],
   "source": [
    "# The signature follows the same pattern as above\n",
    "s1 = slice(3)  # equivalent to the slice :3\n",
    "s1"
   ]
  },
  {
   "cell_type": "code",
   "execution_count": 79,
   "metadata": {
    "colab": {
     "base_uri": "https://localhost:8080/",
     "height": 34
    },
    "colab_type": "code",
    "id": "fMqp5ZCEp8uu",
    "outputId": "a3eccc14-eea0-4155-96f8-6ffb424e3552"
   },
   "outputs": [
    {
     "data": {
      "text/plain": [
       "slice"
      ]
     },
     "execution_count": 79,
     "metadata": {
      "tags": []
     },
     "output_type": "execute_result"
    }
   ],
   "source": [
    "type(s1)  # It is a built-in type"
   ]
  },
  {
   "cell_type": "code",
   "execution_count": 80,
   "metadata": {
    "colab": {
     "base_uri": "https://localhost:8080/",
     "height": 68
    },
    "colab_type": "code",
    "id": "JIxqkduyp470",
    "outputId": "1efe15ea-2332-4b75-fbc6-95ccf60cc6ee"
   },
   "outputs": [
    {
     "name": "stdout",
     "output_type": "stream",
     "text": [
      "tensor([0, 1, 2, 3, 4, 5, 6, 7, 8, 9]) <shape: torch.Size([10])> <dtype: torch.int64>\n",
      "\n",
      "tensor([0, 1, 2]) <shape: torch.Size([3])> <dtype: torch.int64>\n"
     ]
    }
   ],
   "source": [
    "out = a[s1]  # equivalent to a[:3]\n",
    "\n",
    "print_arr(a, out)"
   ]
  },
  {
   "cell_type": "code",
   "execution_count": 81,
   "metadata": {
    "colab": {
     "base_uri": "https://localhost:8080/",
     "height": 34
    },
    "colab_type": "code",
    "id": "JWr9dLVqxziR",
    "outputId": "4b8a78b8-7f41-4e12-b6f0-c1ad31f91f06"
   },
   "outputs": [
    {
     "data": {
      "text/plain": [
       "'thi'"
      ]
     },
     "execution_count": 81,
     "metadata": {
      "tags": []
     },
     "output_type": "execute_result"
    }
   ],
   "source": [
    "mystring = 'this is just a string'\n",
    "mystring[s1]"
   ]
  },
  {
   "cell_type": "code",
   "execution_count": 82,
   "metadata": {
    "colab": {
     "base_uri": "https://localhost:8080/",
     "height": 34
    },
    "colab_type": "code",
    "id": "RNehWUQn2t4H",
    "outputId": "7c5445f2-8b7c-4171-965c-e303e58721ec"
   },
   "outputs": [
    {
     "data": {
      "text/plain": [
       "'gnirts a tsuj si siht'"
      ]
     },
     "execution_count": 82,
     "metadata": {
      "tags": []
     },
     "output_type": "execute_result"
    }
   ],
   "source": [
    "s2 = slice(None, None, -1)\n",
    "mystring[s2] "
   ]
  },
  {
   "cell_type": "code",
   "execution_count": 83,
   "metadata": {
    "colab": {
     "base_uri": "https://localhost:8080/",
     "height": 34
    },
    "colab_type": "code",
    "id": "XvkH5XOCyJQx",
    "outputId": "c3442ca2-2907-4746-de1f-94025a52fd70"
   },
   "outputs": [
    {
     "name": "stdout",
     "output_type": "stream",
     "text": [
      "negative step not yet supported\n"
     ]
    }
   ],
   "source": [
    "try:\n",
    "  a[s2]  # PyTorch currently does not support negative steps\n",
    "except ValueError as e:\n",
    "  print(e)"
   ]
  },
  {
   "cell_type": "markdown",
   "metadata": {
    "colab_type": "text",
    "id": "lMgTjK6yyRCl"
   },
   "source": [
    "With multidimensional tensors we can perform **multidimensional slicing**:"
   ]
  },
  {
   "cell_type": "code",
   "execution_count": 84,
   "metadata": {
    "colab": {
     "base_uri": "https://localhost:8080/",
     "height": 51
    },
    "colab_type": "code",
    "id": "ZJYcchmxykd6",
    "outputId": "f6bb79ef-6119-42b4-a572-d0fed2379bf0"
   },
   "outputs": [
    {
     "data": {
      "text/plain": [
       "tensor([[0, 1, 2, 3, 4],\n",
       "        [5, 6, 7, 8, 9]])"
      ]
     },
     "execution_count": 84,
     "metadata": {
      "tags": []
     },
     "output_type": "execute_result"
    }
   ],
   "source": [
    "a = torch.arange(10).reshape(2, 5)\n",
    "a"
   ]
  },
  {
   "cell_type": "code",
   "execution_count": 85,
   "metadata": {
    "colab": {
     "base_uri": "https://localhost:8080/",
     "height": 34
    },
    "colab_type": "code",
    "id": "gkhWYbVHyq-H",
    "outputId": "18774f86-5326-4d10-e5c2-476107f69834"
   },
   "outputs": [
    {
     "data": {
      "text/plain": [
       "tensor([1, 6])"
      ]
     },
     "execution_count": 85,
     "metadata": {
      "tags": []
     },
     "output_type": "execute_result"
    }
   ],
   "source": [
    "# Take the second column\n",
    "a[:, 1]"
   ]
  },
  {
   "cell_type": "code",
   "execution_count": 86,
   "metadata": {
    "colab": {
     "base_uri": "https://localhost:8080/",
     "height": 34
    },
    "colab_type": "code",
    "id": "5PzkxXpdyMoL",
    "outputId": "d98f179f-28e1-4c3d-9405-eade92289a3f"
   },
   "outputs": [
    {
     "data": {
      "text/plain": [
       "tensor([4, 9])"
      ]
     },
     "execution_count": 86,
     "metadata": {
      "tags": []
     },
     "output_type": "execute_result"
    }
   ],
   "source": [
    "# Take the last column\n",
    "a[:, -1]"
   ]
  },
  {
   "cell_type": "code",
   "execution_count": 87,
   "metadata": {
    "colab": {
     "base_uri": "https://localhost:8080/",
     "height": 34
    },
    "colab_type": "code",
    "id": "7q0GVL_YxVRK",
    "outputId": "b295fccc-87c6-438f-e55e-c12643ad39fb"
   },
   "outputs": [
    {
     "data": {
      "text/plain": [
       "tensor([7, 8, 9])"
      ]
     },
     "execution_count": 87,
     "metadata": {
      "tags": []
     },
     "output_type": "execute_result"
    }
   ],
   "source": [
    "# Take a slice from the last row\n",
    "a[-1, -3:]"
   ]
  },
  {
   "cell_type": "markdown",
   "metadata": {
    "colab_type": "text",
    "id": "Z6oeDEvEzvhQ"
   },
   "source": [
    "You can **assign** to sliced tensors, modifying the original tensor.\n",
    "\n",
    "Actually, indexing and slicing operations do their best to return tensors that **share the underlying data** with the original tensor."
   ]
  },
  {
   "cell_type": "code",
   "execution_count": 88,
   "metadata": {
    "colab": {
     "base_uri": "https://localhost:8080/",
     "height": 51
    },
    "colab_type": "code",
    "id": "R2XdMXUUzLFV",
    "outputId": "8af1883d-98c9-4a23-d879-b32797effb17"
   },
   "outputs": [
    {
     "data": {
      "text/plain": [
       "tensor([[0, 1, 2, 3, 4],\n",
       "        [5, 6, 7, 8, 9]])"
      ]
     },
     "execution_count": 88,
     "metadata": {
      "tags": []
     },
     "output_type": "execute_result"
    }
   ],
   "source": [
    "a = torch.arange(10).reshape(2, 5)\n",
    "a"
   ]
  },
  {
   "cell_type": "code",
   "execution_count": 89,
   "metadata": {
    "colab": {
     "base_uri": "https://localhost:8080/",
     "height": 51
    },
    "colab_type": "code",
    "id": "aiM4-1Je1C3y",
    "outputId": "10dc054d-9f06-4d38-edc2-951a970aea84"
   },
   "outputs": [
    {
     "data": {
      "text/plain": [
       "tensor([[1, 2],\n",
       "        [6, 7]])"
      ]
     },
     "execution_count": 89,
     "metadata": {
      "tags": []
     },
     "output_type": "execute_result"
    }
   ],
   "source": [
    "b = a[0:2, 1:3]\n",
    "b"
   ]
  },
  {
   "cell_type": "code",
   "execution_count": 90,
   "metadata": {
    "colab": {
     "base_uri": "https://localhost:8080/",
     "height": 51
    },
    "colab_type": "code",
    "id": "Evbxee1A1GFo",
    "outputId": "4d58df33-c28c-490a-fb35-7f79edf8bf34"
   },
   "outputs": [
    {
     "data": {
      "text/plain": [
       "tensor([[   1,    2],\n",
       "        [-999, -999]])"
      ]
     },
     "execution_count": 90,
     "metadata": {
      "tags": []
     },
     "output_type": "execute_result"
    }
   ],
   "source": [
    "b[-1, :] = -999\n",
    "b"
   ]
  },
  {
   "cell_type": "code",
   "execution_count": 91,
   "metadata": {
    "colab": {
     "base_uri": "https://localhost:8080/",
     "height": 51
    },
    "colab_type": "code",
    "id": "44A4NAYewvYd",
    "outputId": "ef421ad5-cc96-4a14-978c-d3f030b848f3"
   },
   "outputs": [
    {
     "data": {
      "text/plain": [
       "tensor([[   0,    1,    2,    3,    4],\n",
       "        [   5, -999, -999,    8,    9]])"
      ]
     },
     "execution_count": 91,
     "metadata": {
      "tags": []
     },
     "output_type": "execute_result"
    }
   ],
   "source": [
    "# The original tensor has been modified\n",
    "a"
   ]
  },
  {
   "cell_type": "code",
   "execution_count": 92,
   "metadata": {
    "colab": {
     "base_uri": "https://localhost:8080/",
     "height": 51
    },
    "colab_type": "code",
    "id": "chqxaQU63oxh",
    "outputId": "daf1c624-5328-4a54-c3eb-c5f8d6ed510c"
   },
   "outputs": [
    {
     "data": {
      "text/plain": [
       "tensor([[   0,    1,    2,    3,    4],\n",
       "        [   5, -999, -999,    8,   -1]])"
      ]
     },
     "execution_count": 92,
     "metadata": {
      "tags": []
     },
     "output_type": "execute_result"
    }
   ],
   "source": [
    "a[-1, -1] = -1\n",
    "a"
   ]
  },
  {
   "cell_type": "markdown",
   "metadata": {
    "colab_type": "text",
    "id": "Y_yFS2q51zdn"
   },
   "source": [
    "> **NOTE**\n",
    ">\n",
    "> Indexing with **integers yields lower rank tensors**"
   ]
  },
  {
   "cell_type": "code",
   "execution_count": 93,
   "metadata": {
    "colab": {
     "base_uri": "https://localhost:8080/",
     "height": 68
    },
    "colab_type": "code",
    "id": "CqLGPTtlu22k",
    "outputId": "e194adac-eff1-4e51-f14c-87d8a4b6001e"
   },
   "outputs": [
    {
     "name": "stdout",
     "output_type": "stream",
     "text": [
      "tensor([[ 0,  1,  2,  3],\n",
      "        [ 4,  5,  6,  7],\n",
      "        [ 8,  9, 10, 11]]) <shape: torch.Size([3, 4])> <dtype: torch.int64>\n"
     ]
    }
   ],
   "source": [
    "a = torch.arange(12).reshape(3, 4)\n",
    "print_arr(a)"
   ]
  },
  {
   "cell_type": "code",
   "execution_count": 94,
   "metadata": {
    "colab": {
     "base_uri": "https://localhost:8080/",
     "height": 34
    },
    "colab_type": "code",
    "id": "u2vHVDozvCag",
    "outputId": "7da174d4-a4bb-454d-8354-318a057f4dca"
   },
   "outputs": [
    {
     "name": "stdout",
     "output_type": "stream",
     "text": [
      "tensor([4, 5, 6, 7]) <shape: torch.Size([4])> <dtype: torch.int64>\n"
     ]
    }
   ],
   "source": [
    "# Rank 1 view of the second row of a \n",
    "row_r1 = a[1, :]    \n",
    "print_arr(row_r1)"
   ]
  },
  {
   "cell_type": "code",
   "execution_count": 95,
   "metadata": {
    "colab": {
     "base_uri": "https://localhost:8080/",
     "height": 34
    },
    "colab_type": "code",
    "id": "CTsk6eG325Ib",
    "outputId": "d56f8b44-6c5c-4743-efe1-f4875ed41828"
   },
   "outputs": [
    {
     "name": "stdout",
     "output_type": "stream",
     "text": [
      "tensor([[4, 5, 6, 7]]) <shape: torch.Size([1, 4])> <dtype: torch.int64>\n"
     ]
    }
   ],
   "source": [
    "# Rank 2 view of the second row of a\n",
    "row_r2 = a[1:2, :]\n",
    "print_arr(row_r2)"
   ]
  },
  {
   "cell_type": "code",
   "execution_count": 96,
   "metadata": {
    "colab": {
     "base_uri": "https://localhost:8080/",
     "height": 34
    },
    "colab_type": "code",
    "id": "zUVPrn7l3A5j",
    "outputId": "e8da3adb-3b1a-4eac-eafb-bdeda0c23d88"
   },
   "outputs": [
    {
     "name": "stdout",
     "output_type": "stream",
     "text": [
      "tensor([[4, 5, 6, 7]]) <shape: torch.Size([1, 4])> <dtype: torch.int64>\n"
     ]
    }
   ],
   "source": [
    "# Rank 2 view of the second row of a\n",
    "row_r3 = a[[1], :]\n",
    "print_arr(row_r3)"
   ]
  },
  {
   "cell_type": "code",
   "execution_count": 97,
   "metadata": {
    "colab": {
     "base_uri": "https://localhost:8080/",
     "height": 85
    },
    "colab_type": "code",
    "id": "TL0qs9Gw3Mfu",
    "outputId": "b39fe9e2-566d-4983-b4bd-70b8fa64ed20"
   },
   "outputs": [
    {
     "name": "stdout",
     "output_type": "stream",
     "text": [
      "tensor([1, 5, 9]) <shape: torch.Size([3])> <dtype: torch.int64>\n",
      "tensor([[1],\n",
      "        [5],\n",
      "        [9]]) <shape: torch.Size([3, 1])> <dtype: torch.int64>\n"
     ]
    }
   ],
   "source": [
    "# Same with the columns\n",
    "print_arr(a[:, 1])\n",
    "print_arr(a[:, [1]])"
   ]
  },
  {
   "cell_type": "markdown",
   "metadata": {
    "colab_type": "text",
    "id": "UUsBgzbl33Qc"
   },
   "source": [
    "#### **Integer array indexing**\n",
    "\n",
    "It is a generalization of the slice: when you slice, the resulting tensor view will always be a subarray of the original tensor.\n",
    "\n",
    "Integer array indexing allows you to construct arbitrary tensors, using the data from another tensor"
   ]
  },
  {
   "cell_type": "code",
   "execution_count": 98,
   "metadata": {
    "colab": {
     "base_uri": "https://localhost:8080/",
     "height": 68
    },
    "colab_type": "code",
    "id": "8yJ7eft44Shf",
    "outputId": "3d636388-110c-4141-f0cb-47fc788f2c63"
   },
   "outputs": [
    {
     "name": "stdout",
     "output_type": "stream",
     "text": [
      "tensor([[1, 2],\n",
      "        [3, 4],\n",
      "        [5, 6]]) <shape: torch.Size([3, 2])> <dtype: torch.int64>\n"
     ]
    }
   ],
   "source": [
    "a = torch.arange(1, 7).reshape(3, 2)\n",
    "print_arr(a)"
   ]
  },
  {
   "cell_type": "code",
   "execution_count": 99,
   "metadata": {
    "colab": {
     "base_uri": "https://localhost:8080/",
     "height": 34
    },
    "colab_type": "code",
    "id": "YDGTkvIQ4qaO",
    "outputId": "2b08f938-6741-4eb9-c951-a3b223155892"
   },
   "outputs": [
    {
     "name": "stdout",
     "output_type": "stream",
     "text": [
      "tensor([1, 4, 5]) <shape: torch.Size([3])> <dtype: torch.int64>\n"
     ]
    }
   ],
   "source": [
    "# Example of integer array indexing\n",
    "# The returned array will have shape (3,)\n",
    "b = a[[0, 1, 2], [0, 1, 0]]\n",
    "print_arr(b)"
   ]
  },
  {
   "cell_type": "code",
   "execution_count": 100,
   "metadata": {
    "colab": {
     "base_uri": "https://localhost:8080/",
     "height": 34
    },
    "colab_type": "code",
    "id": "e8AjjBKF4nos",
    "outputId": "f87c60ae-120a-40cf-8ae0-e6dafbf30d56"
   },
   "outputs": [
    {
     "name": "stdout",
     "output_type": "stream",
     "text": [
      "tensor([1, 4, 5]) <shape: torch.Size([3])> <dtype: torch.int64>\n"
     ]
    }
   ],
   "source": [
    "# Equivalent to\n",
    "v1, v2, v3 = a[0, 0], a[1, 1], a[2, 0]\n",
    "b = torch.tensor([v1, v2, v3])\n",
    "print_arr(b)"
   ]
  },
  {
   "cell_type": "code",
   "execution_count": 101,
   "metadata": {
    "colab": {
     "base_uri": "https://localhost:8080/",
     "height": 51
    },
    "colab_type": "code",
    "id": "WnVB223B5Nf9",
    "outputId": "13079529-94a7-4225-d3a1-55b159ec570d"
   },
   "outputs": [
    {
     "name": "stdout",
     "output_type": "stream",
     "text": [
      "tensor([2, 2]) <shape: torch.Size([2])> <dtype: torch.int64>\n",
      "tensor([2, 2]) <shape: torch.Size([2])> <dtype: torch.int64>\n"
     ]
    }
   ],
   "source": [
    "# You can re-use the same element of the source tensor multiple times!\n",
    "print_arr(a[[0, 0], [1, 1]])\n",
    "print_arr(torch.tensor([a[0, 1], a[0, 1]]))"
   ]
  },
  {
   "cell_type": "code",
   "execution_count": 102,
   "metadata": {
    "colab": {
     "base_uri": "https://localhost:8080/",
     "height": 34
    },
    "colab_type": "code",
    "id": "NG8PUPue5ntQ",
    "outputId": "82d568ac-6c80-4c36-ed7a-e4b9cd7bca33"
   },
   "outputs": [
    {
     "data": {
      "text/plain": [
       "tensor([1, 1, 1])"
      ]
     },
     "execution_count": 102,
     "metadata": {
      "tags": []
     },
     "output_type": "execute_result"
    }
   ],
   "source": [
    "# You can use another tensor to perform the indexing, \n",
    "# as long as they are have dtype=torch.int64 type\n",
    "i = torch.ones(3, dtype=torch.int64)\n",
    "i"
   ]
  },
  {
   "cell_type": "code",
   "execution_count": 103,
   "metadata": {
    "colab": {
     "base_uri": "https://localhost:8080/",
     "height": 34
    },
    "colab_type": "code",
    "id": "yp--PCJN5uvA",
    "outputId": "43e8ecf5-46f0-4d48-d48c-ebd15f4b62e4"
   },
   "outputs": [
    {
     "data": {
      "text/plain": [
       "tensor([0, 1, 0])"
      ]
     },
     "execution_count": 103,
     "metadata": {
      "tags": []
     },
     "output_type": "execute_result"
    }
   ],
   "source": [
    "j = torch.tensor([0, 1, 0])\n",
    "j"
   ]
  },
  {
   "cell_type": "code",
   "execution_count": 104,
   "metadata": {
    "colab": {
     "base_uri": "https://localhost:8080/",
     "height": 102
    },
    "colab_type": "code",
    "id": "RrlnZbw25w3H",
    "outputId": "92d6b7f8-e188-4d67-9251-8c775d40f59f"
   },
   "outputs": [
    {
     "name": "stdout",
     "output_type": "stream",
     "text": [
      "tensor([[1, 2],\n",
      "        [3, 4],\n",
      "        [5, 6]]) <shape: torch.Size([3, 2])> <dtype: torch.int64>\n",
      "\n",
      "tensor([3, 4, 3]) <shape: torch.Size([3])> <dtype: torch.int64>\n"
     ]
    }
   ],
   "source": [
    "out = a[i, j]\n",
    "\n",
    "print_arr(a, out)"
   ]
  },
  {
   "cell_type": "markdown",
   "metadata": {
    "colab_type": "text",
    "id": "gzr5hn34sjko"
   },
   "source": [
    "> **EXERCISE**\n",
    ">\n",
    "> Change one element in each row of a tensor $X \\in R^{4 \\times 3}$:\n",
    ">\n",
    "> `X[0,2] = -1`\n",
    ">\n",
    "> `X[1,1] = 0`\n",
    ">\n",
    "> `X[2,0] = 1`\n",
    ">\n",
    "> `X[3,1] = 2`\n",
    "\n"
   ]
  },
  {
   "cell_type": "code",
   "execution_count": 105,
   "metadata": {
    "colab": {
     "base_uri": "https://localhost:8080/",
     "height": 170
    },
    "colab_type": "code",
    "id": "lbcM_8eRtNg0",
    "outputId": "e8b4ac7e-982b-4403-9368-4fbe95cc1212"
   },
   "outputs": [
    {
     "name": "stdout",
     "output_type": "stream",
     "text": [
      "tensor([[ 0,  1,  2],\n",
      "        [ 3,  4,  5],\n",
      "        [ 6,  7,  8],\n",
      "        [ 9, 10, 11]])\n",
      "\n",
      "tensor([[ 0,  1, -1],\n",
      "        [ 3,  0,  5],\n",
      "        [ 1,  7,  8],\n",
      "        [ 9,  2, 11]])\n"
     ]
    }
   ],
   "source": [
    "# Mutate one element from each row of a matrix\n",
    "a = torch.arange(12).reshape(4, 3)\n",
    "print(a, end='\\n\\n')\n",
    "\n",
    "row_indices = torch.arange(a.shape[0])\n",
    "a[row_indices, [2, 1, 0, 1]] = torch.tensor([-1, 0, 1, 2])\n",
    "\n",
    "print(a)"
   ]
  },
  {
   "cell_type": "code",
   "execution_count": 106,
   "metadata": {
    "colab": {
     "base_uri": "https://localhost:8080/",
     "height": 34
    },
    "colab_type": "code",
    "id": "3k3YJOPs6_AN",
    "outputId": "83a347f8-cf8b-4b2a-b53d-0d9d34a72ca4"
   },
   "outputs": [
    {
     "data": {
      "text/plain": [
       "tensor([-1,  0,  1,  2])"
      ]
     },
     "execution_count": 106,
     "metadata": {
      "tags": []
     },
     "output_type": "execute_result"
    }
   ],
   "source": [
    "# Parametric row indexing\n",
    "\n",
    "# Create an array of indices for each row\n",
    "j = torch.tensor([2, 1, 0, 1])\n",
    "\n",
    "# Select one element from each row using the indices in b\n",
    "a[torch.arange(a.shape[0]), j]"
   ]
  },
  {
   "cell_type": "code",
   "execution_count": 107,
   "metadata": {
    "colab": {
     "base_uri": "https://localhost:8080/",
     "height": 85
    },
    "colab_type": "code",
    "id": "BihSrS7h7WUx",
    "outputId": "75f63b2b-fdc3-4f95-8696-713454de14d5"
   },
   "outputs": [
    {
     "data": {
      "text/plain": [
       "tensor([[   0,    1,  999],\n",
       "        [   3, 1000,    5],\n",
       "        [1001,    7,    8],\n",
       "        [   9, 1002,   11]])"
      ]
     },
     "execution_count": 107,
     "metadata": {
      "tags": []
     },
     "output_type": "execute_result"
    }
   ],
   "source": [
    "# Mutate one element from each row, using the indices in b\n",
    "a[torch.arange(a.shape[0]), j] += 1000\n",
    "a"
   ]
  },
  {
   "cell_type": "markdown",
   "metadata": {
    "colab_type": "text",
    "id": "544F9pAf-qRY"
   },
   "source": [
    "> **NOTE**\n",
    ">\n",
    "> **Slice indexing vs Array indexing**\n"
   ]
  },
  {
   "cell_type": "code",
   "execution_count": 108,
   "metadata": {
    "colab": {
     "base_uri": "https://localhost:8080/",
     "height": 85
    },
    "colab_type": "code",
    "id": "b-GYMhxA-tOY",
    "outputId": "08584dc0-2869-46e0-c05c-40fc3a342a7d"
   },
   "outputs": [
    {
     "data": {
      "text/plain": [
       "tensor([[ 0,  1,  2,  3],\n",
       "        [ 4,  5,  6,  7],\n",
       "        [ 8,  9, 10, 11],\n",
       "        [12, 13, 14, 15]])"
      ]
     },
     "execution_count": 108,
     "metadata": {
      "tags": []
     },
     "output_type": "execute_result"
    }
   ],
   "source": [
    "a = torch.arange(16).reshape(4, 4)\n",
    "a"
   ]
  },
  {
   "cell_type": "code",
   "execution_count": 109,
   "metadata": {
    "colab": {
     "base_uri": "https://localhost:8080/",
     "height": 68
    },
    "colab_type": "code",
    "id": "Piy-JUdv-x0_",
    "outputId": "5ebb6867-5388-49ab-cee6-c777df308f20"
   },
   "outputs": [
    {
     "data": {
      "text/plain": [
       "tensor([[ 0,  1,  2],\n",
       "        [ 4,  5,  6],\n",
       "        [ 8,  9, 10]])"
      ]
     },
     "execution_count": 109,
     "metadata": {
      "tags": []
     },
     "output_type": "execute_result"
    }
   ],
   "source": [
    "a[0:3, 0:3]"
   ]
  },
  {
   "cell_type": "code",
   "execution_count": 110,
   "metadata": {
    "colab": {
     "base_uri": "https://localhost:8080/",
     "height": 34
    },
    "colab_type": "code",
    "id": "fXJJAq9G-0rX",
    "outputId": "47db9db9-0e90-4838-b6f9-cc45954adb05"
   },
   "outputs": [
    {
     "data": {
      "text/plain": [
       "tensor([ 0,  5, 10])"
      ]
     },
     "execution_count": 110,
     "metadata": {
      "tags": []
     },
     "output_type": "execute_result"
    }
   ],
   "source": [
    "a[[0, 1, 2], [0, 1, 2]]"
   ]
  },
  {
   "cell_type": "code",
   "execution_count": 111,
   "metadata": {
    "colab": {
     "base_uri": "https://localhost:8080/",
     "height": 51
    },
    "colab_type": "code",
    "id": "hkmiQgQT_k82",
    "outputId": "19e238b7-f765-49ef-d376-b98b43840f4b"
   },
   "outputs": [
    {
     "data": {
      "text/plain": [
       "tensor([[ 0,  2],\n",
       "        [ 8, 10]])"
      ]
     },
     "execution_count": 111,
     "metadata": {
      "tags": []
     },
     "output_type": "execute_result"
    }
   ],
   "source": [
    "a[0:5:2, 0:5:2]"
   ]
  },
  {
   "cell_type": "markdown",
   "metadata": {
    "colab_type": "text",
    "id": "QVMo8E2W_wAw"
   },
   "source": [
    "#### **Boolean array indexing**\n",
    "\n",
    "This type of indexing is used to select the elements of a tensor that satisfy some condition (similar to MATLAB's logical indexing):"
   ]
  },
  {
   "cell_type": "code",
   "execution_count": 112,
   "metadata": {
    "colab": {
     "base_uri": "https://localhost:8080/",
     "height": 68
    },
    "colab_type": "code",
    "id": "OFIFupWJAnI9",
    "outputId": "177896bb-74d9-472b-8c50-2845f2003d47"
   },
   "outputs": [
    {
     "data": {
      "text/plain": [
       "tensor([[0, 1],\n",
       "        [2, 3],\n",
       "        [4, 5]])"
      ]
     },
     "execution_count": 112,
     "metadata": {
      "tags": []
     },
     "output_type": "execute_result"
    }
   ],
   "source": [
    "a = torch.arange(6).reshape(3, 2)\n",
    "a"
   ]
  },
  {
   "cell_type": "code",
   "execution_count": 113,
   "metadata": {
    "colab": {
     "base_uri": "https://localhost:8080/",
     "height": 68
    },
    "colab_type": "code",
    "id": "jMaNbpVPAtMm",
    "outputId": "36cc62d7-bd9a-4159-aa61-9896d71f8188"
   },
   "outputs": [
    {
     "data": {
      "text/plain": [
       "tensor([[False, False],\n",
       "        [False,  True],\n",
       "        [ True,  True]])"
      ]
     },
     "execution_count": 113,
     "metadata": {
      "tags": []
     },
     "output_type": "execute_result"
    }
   ],
   "source": [
    "bool_idx = (a > 2)\n",
    "bool_idx"
   ]
  },
  {
   "cell_type": "code",
   "execution_count": 114,
   "metadata": {
    "colab": {
     "base_uri": "https://localhost:8080/",
     "height": 34
    },
    "colab_type": "code",
    "id": "XbYWFo8TArod",
    "outputId": "485b1ac6-b690-496b-f0b5-3a0cc2724d61"
   },
   "outputs": [
    {
     "data": {
      "text/plain": [
       "tensor([3, 4, 5])"
      ]
     },
     "execution_count": 114,
     "metadata": {
      "tags": []
     },
     "output_type": "execute_result"
    }
   ],
   "source": [
    "a[bool_idx]"
   ]
  },
  {
   "cell_type": "markdown",
   "metadata": {
    "colab_type": "text",
    "id": "kzVyXjJgBMKa"
   },
   "source": [
    "If you want to know more about indexing in PyTorch and Numpy read the [documentation](https://docs.scipy.org/doc/numpy/reference/arrays.indexing.html)"
   ]
  },
  {
   "cell_type": "markdown",
   "metadata": {
    "colab_type": "text",
    "id": "fbUID2DlLuhq"
   },
   "source": [
    "> **EXERCISE**\n",
    ">\n",
    "> Build a 3D tensor in $X \\in R^{k \\times k \\times k}$ that has ones along the 3D-diagonal and zeros elsewhere, i.e. a 3D identity."
   ]
  },
  {
   "cell_type": "markdown",
   "metadata": {
    "colab_type": "text",
    "id": "5uLHb9jWM0jM"
   },
   "source": [
    "> **EXERCISE**\n",
    ">\n",
    "> Build a 3D tensor $X \\in R^{w \\times h \\times 3}$ representing an image $w \\times h$ plus the `(r, g, b)` color channel. Assume the color channel is the last dimension in the tensor and each color $c \\in [0, 1]$.\n",
    ">\n",
    "> Color the image $X$ completely by red, i.e. `(1, 0, 0)` in the `(r, g, b)` format."
   ]
  },
  {
   "cell_type": "code",
   "execution_count": 7,
   "metadata": {
    "colab": {
     "base_uri": "https://localhost:8080/",
     "height": 218
    },
    "colab_type": "code",
    "id": "g_HG8I5zNnpJ",
    "outputId": "1e4b9fc1-31b3-46e0-848d-8a167f8e839b"
   },
   "outputs": [
    {
     "data": {
      "image/png": "[encoded data removed]",
      "text/plain": [
       "<Figure size 432x288 with 1 Axes>"
      ]
     },
     "metadata": {
      "needs_background": "light"
     },
     "output_type": "display_data"
    }
   ],
   "source": [
    "# Create and visualize a black image\n",
    "x = torch.zeros(100, 200, 3)\n",
    "\n",
    "%matplotlib inline\n",
    "import matplotlib.pyplot as plt\n",
    "img = plt.imshow(x)"
   ]
  },
  {
   "cell_type": "code",
   "execution_count": 21,
   "metadata": {},
   "outputs": [
    {
     "data": {
      "image/png": "[encoded data removed]",
      "text/plain": [
       "<Figure size 432x288 with 1 Axes>"
      ]
     },
     "metadata": {
      "needs_background": "light"
     },
     "output_type": "display_data"
    }
   ],
   "source": [
    "x = torch.zeros(100, 200, 3, dtype=torch.int32)\n",
    "%matplotlib inline\n",
    "import matplotlib.pyplot as plt\n",
    "img = plt.imshow(x)\n",
    "# x = torch.zeros(100, 200, 3)\n",
    "#x[torch.arange(100), torch.arange(200)] = torch.tensor([255,0,0])\n",
    "# x[:][:][0] = 255\n",
    "x[:, :,0] = 255 \n",
    "img = plt.imshow(x)"
   ]
  },
  {
   "cell_type": "markdown",
   "metadata": {
    "colab_type": "text",
    "id": "ps_j8BUcQmWu"
   },
   "source": [
    "> **EXERCISE**\n",
    ">\n",
    "> Given the GitHub logo $X \\in R^{560 \\times 560}$, change the black-ish color into light gray: $0.8$.  Assume the logo is in grey scale, with the color $c \\in [0, 1]$ (remember 0 $\\to$ black).\n",
    ">\n",
    "> Then draw a diagonal and anti-diagonal black line (i.e. an X) on the new image, to mark that the new logo is wrong."
   ]
  },
  {
   "cell_type": "code",
   "execution_count": 8,
   "metadata": {
    "colab": {
     "base_uri": "https://localhost:8080/",
     "height": 269
    },
    "colab_type": "code",
    "id": "X0082ZNOP-EK",
    "outputId": "3afdd787-260f-46c0-de74-6051af07189d"
   },
   "outputs": [
    {
     "data": {
      "image/png": "[encoded data removed]",
      "text/plain": [
       "<Figure size 432x288 with 1 Axes>"
      ]
     },
     "metadata": {
      "needs_background": "light"
     },
     "output_type": "display_data"
    }
   ],
   "source": [
    "from skimage import io\n",
    "\n",
    "image = io.imread('https://github.githubassets.com/images/modules/logos_page/GitHub-Mark.png', as_gray=True)\n",
    "_ = plt.imshow(image, cmap='gray', vmin=0, vmax=1)"
   ]
  },
  {
   "cell_type": "code",
   "execution_count": 17,
   "metadata": {
    "colab": {
     "base_uri": "https://localhost:8080/",
     "height": 269
    },
    "colab_type": "code",
    "id": "thBZCe_3QyxM",
    "outputId": "438d5817-8e57-4c83-d2a3-0e4a7f1e5a3d"
   },
   "outputs": [
    {
     "name": "stdout",
     "output_type": "stream",
     "text": [
      "<class 'numpy.ndarray'>\n",
      "tensor([[0., 0., 0.,  ..., 0., 0., 0.],\n",
      "        [0., 0., 0.,  ..., 0., 0., 0.],\n",
      "        [0., 0., 0.,  ..., 0., 0., 0.],\n",
      "        ...,\n",
      "        [0., 0., 0.,  ..., 0., 0., 0.],\n",
      "        [0., 0., 0.,  ..., 0., 0., 0.],\n",
      "        [0., 0., 0.,  ..., 0., 0., 0.]], dtype=torch.float64)\n",
      "<class 'torch.Tensor'>\n"
     ]
    },
    {
     "name": "stderr",
     "output_type": "stream",
     "text": [
      "/usr/local/lib/python3.7/site-packages/ipykernel_launcher.py:7: UserWarning: To copy construct from a tensor, it is recommended to use sourceTensor.clone().detach() or sourceTensor.clone().detach().requires_grad_(True), rather than torch.tensor(sourceTensor).\n",
      "  import sys\n"
     ]
    },
    {
     "data": {
      "image/png": "[encoded data removed]",
      "text/plain": [
       "<Figure size 432x288 with 1 Axes>"
      ]
     },
     "metadata": {
      "needs_background": "light"
     },
     "output_type": "display_data"
    }
   ],
   "source": [
    "# Change the black into light-gray\n",
    "image = io.imread('https://github.githubassets.com/images/modules/logos_page/GitHub-Mark.png', as_gray=True)\n",
    "_ = plt.imshow(image, cmap='gray', vmin=0, vmax=1)\n",
    "\n",
    "print(type(image))\n",
    "image = torch.tensor(image, dtype=torch.float64) \n",
    "bit_mask = torch.tensor(image < 1 , dtype=torch.float64) * 0.8\n",
    "print(bit_mask)\n",
    "print(type(image))\n",
    "\n",
    "image += bit_mask\n",
    "_ = plt.imshow(image, cmap='gray', vmin=0, vmax=1)"
   ]
  },
  {
   "cell_type": "code",
   "execution_count": 20,
   "metadata": {
    "colab": {
     "base_uri": "https://localhost:8080/",
     "height": 269
    },
    "colab_type": "code",
    "id": "DvjjGYmkX8m7",
    "outputId": "c436e813-2bc3-4cd0-c9b1-3fa15430760c"
   },
   "outputs": [
    {
     "name": "stdout",
     "output_type": "stream",
     "text": [
      "<class 'numpy.ndarray'>\n",
      "tensor([[0., 0., 0.,  ..., 0., 0., 0.],\n",
      "        [0., 0., 0.,  ..., 0., 0., 0.],\n",
      "        [0., 0., 0.,  ..., 0., 0., 0.],\n",
      "        ...,\n",
      "        [0., 0., 0.,  ..., 0., 0., 0.],\n",
      "        [0., 0., 0.,  ..., 0., 0., 0.],\n",
      "        [0., 0., 0.,  ..., 0., 0., 0.]], dtype=torch.float64)\n",
      "<class 'torch.Tensor'>\n"
     ]
    },
    {
     "name": "stderr",
     "output_type": "stream",
     "text": [
      "/usr/local/lib/python3.7/site-packages/ipykernel_launcher.py:8: UserWarning: To copy construct from a tensor, it is recommended to use sourceTensor.clone().detach() or sourceTensor.clone().detach().requires_grad_(True), rather than torch.tensor(sourceTensor).\n",
      "  \n"
     ]
    },
    {
     "data": {
      "image/png": "[encoded data removed]",
      "text/plain": [
       "<Figure size 432x288 with 1 Axes>"
      ]
     },
     "metadata": {
      "needs_background": "light"
     },
     "output_type": "display_data"
    }
   ],
   "source": [
    "# Mark the new image as wrong with a big black X\n",
    "# ?\n",
    "image = io.imread('https://github.githubassets.com/images/modules/logos_page/GitHub-Mark.png', as_gray=True)\n",
    "_ = plt.imshow(image, cmap='gray', vmin=0, vmax=1)\n",
    "\n",
    "print(type(image))\n",
    "image = torch.tensor(image, dtype=torch.float64) \n",
    "bit_mask = torch.tensor(image < 1 , dtype=torch.float64) * 0.8\n",
    "print(bit_mask)\n",
    "print(type(image))\n",
    "image -= (torch.eye(560) * 3)\n",
    "image -= torch.rot90(torch.eye(560))\n",
    "image += bit_mask\n",
    "_ = plt.imshow(image, cmap='gray', vmin=0, vmax=1)\n",
    "\n"
   ]
  },
  {
   "cell_type": "code",
   "execution_count": null,
   "metadata": {},
   "outputs": [],
   "source": []
  }
 ],
 "metadata": {
  "accelerator": "GPU",
  "colab": {
   "collapsed_sections": [],
   "name": "01.Tensor basics.ipynb",
   "provenance": [],
   "toc_visible": true
  },
  "kernelspec": {
   "display_name": "Python 3",
   "language": "python",
   "name": "python3"
  },
  "language_info": {
   "codemirror_mode": {
    "name": "ipython",
    "version": 3
   },
   "file_extension": ".py",
   "mimetype": "text/x-python",
   "name": "python",
   "nbconvert_exporter": "python",
   "pygments_lexer": "ipython3",
   "version": "3.7.4"
  }
 },
 "nbformat": 4,
 "nbformat_minor": 1
}
